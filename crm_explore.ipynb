{
 "cells": [
  {
   "cell_type": "code",
   "execution_count": 1,
   "metadata": {},
   "outputs": [],
   "source": [
    "import pandas as pd\n",
    "import matplotlib.pyplot as plt\n",
    "import seaborn as sns\n",
    "\n",
    "data = pd.read_csv('./CRM.csv', encoding= 'unicode_escape')"
   ]
  },
  {
   "cell_type": "code",
   "execution_count": 2,
   "metadata": {},
   "outputs": [
    {
     "data": {
      "text/html": [
       "<div>\n",
       "<style scoped>\n",
       "    .dataframe tbody tr th:only-of-type {\n",
       "        vertical-align: middle;\n",
       "    }\n",
       "\n",
       "    .dataframe tbody tr th {\n",
       "        vertical-align: top;\n",
       "    }\n",
       "\n",
       "    .dataframe thead th {\n",
       "        text-align: right;\n",
       "    }\n",
       "</style>\n",
       "<table border=\"1\" class=\"dataframe\">\n",
       "  <thead>\n",
       "    <tr style=\"text-align: right;\">\n",
       "      <th></th>\n",
       "      <th>Invoice</th>\n",
       "      <th>StockCode</th>\n",
       "      <th>Description</th>\n",
       "      <th>Quantity</th>\n",
       "      <th>InvoiceDate</th>\n",
       "      <th>Price</th>\n",
       "      <th>Customer ID</th>\n",
       "      <th>Country</th>\n",
       "    </tr>\n",
       "  </thead>\n",
       "  <tbody>\n",
       "    <tr>\n",
       "      <th>0</th>\n",
       "      <td>489434</td>\n",
       "      <td>85048</td>\n",
       "      <td>15CM CHRISTMAS GLASS BALL 20 LIGHTS</td>\n",
       "      <td>12</td>\n",
       "      <td>12/1/2009 7:45</td>\n",
       "      <td>6.95</td>\n",
       "      <td>13085.0</td>\n",
       "      <td>United Kingdom</td>\n",
       "    </tr>\n",
       "    <tr>\n",
       "      <th>1</th>\n",
       "      <td>489434</td>\n",
       "      <td>79323P</td>\n",
       "      <td>PINK CHERRY LIGHTS</td>\n",
       "      <td>12</td>\n",
       "      <td>12/1/2009 7:45</td>\n",
       "      <td>6.75</td>\n",
       "      <td>13085.0</td>\n",
       "      <td>United Kingdom</td>\n",
       "    </tr>\n",
       "    <tr>\n",
       "      <th>2</th>\n",
       "      <td>489434</td>\n",
       "      <td>79323W</td>\n",
       "      <td>WHITE CHERRY LIGHTS</td>\n",
       "      <td>12</td>\n",
       "      <td>12/1/2009 7:45</td>\n",
       "      <td>6.75</td>\n",
       "      <td>13085.0</td>\n",
       "      <td>United Kingdom</td>\n",
       "    </tr>\n",
       "    <tr>\n",
       "      <th>3</th>\n",
       "      <td>489434</td>\n",
       "      <td>22041</td>\n",
       "      <td>RECORD FRAME 7\" SINGLE SIZE</td>\n",
       "      <td>48</td>\n",
       "      <td>12/1/2009 7:45</td>\n",
       "      <td>2.10</td>\n",
       "      <td>13085.0</td>\n",
       "      <td>United Kingdom</td>\n",
       "    </tr>\n",
       "    <tr>\n",
       "      <th>4</th>\n",
       "      <td>489434</td>\n",
       "      <td>21232</td>\n",
       "      <td>STRAWBERRY CERAMIC TRINKET BOX</td>\n",
       "      <td>24</td>\n",
       "      <td>12/1/2009 7:45</td>\n",
       "      <td>1.25</td>\n",
       "      <td>13085.0</td>\n",
       "      <td>United Kingdom</td>\n",
       "    </tr>\n",
       "    <tr>\n",
       "      <th>...</th>\n",
       "      <td>...</td>\n",
       "      <td>...</td>\n",
       "      <td>...</td>\n",
       "      <td>...</td>\n",
       "      <td>...</td>\n",
       "      <td>...</td>\n",
       "      <td>...</td>\n",
       "      <td>...</td>\n",
       "    </tr>\n",
       "    <tr>\n",
       "      <th>525456</th>\n",
       "      <td>538171</td>\n",
       "      <td>22271</td>\n",
       "      <td>FELTCRAFT DOLL ROSIE</td>\n",
       "      <td>2</td>\n",
       "      <td>12/9/2010 20:01</td>\n",
       "      <td>2.95</td>\n",
       "      <td>17530.0</td>\n",
       "      <td>United Kingdom</td>\n",
       "    </tr>\n",
       "    <tr>\n",
       "      <th>525457</th>\n",
       "      <td>538171</td>\n",
       "      <td>22750</td>\n",
       "      <td>FELTCRAFT PRINCESS LOLA DOLL</td>\n",
       "      <td>1</td>\n",
       "      <td>12/9/2010 20:01</td>\n",
       "      <td>3.75</td>\n",
       "      <td>17530.0</td>\n",
       "      <td>United Kingdom</td>\n",
       "    </tr>\n",
       "    <tr>\n",
       "      <th>525458</th>\n",
       "      <td>538171</td>\n",
       "      <td>22751</td>\n",
       "      <td>FELTCRAFT PRINCESS OLIVIA DOLL</td>\n",
       "      <td>1</td>\n",
       "      <td>12/9/2010 20:01</td>\n",
       "      <td>3.75</td>\n",
       "      <td>17530.0</td>\n",
       "      <td>United Kingdom</td>\n",
       "    </tr>\n",
       "    <tr>\n",
       "      <th>525459</th>\n",
       "      <td>538171</td>\n",
       "      <td>20970</td>\n",
       "      <td>PINK FLORAL FELTCRAFT SHOULDER BAG</td>\n",
       "      <td>2</td>\n",
       "      <td>12/9/2010 20:01</td>\n",
       "      <td>3.75</td>\n",
       "      <td>17530.0</td>\n",
       "      <td>United Kingdom</td>\n",
       "    </tr>\n",
       "    <tr>\n",
       "      <th>525460</th>\n",
       "      <td>538171</td>\n",
       "      <td>21931</td>\n",
       "      <td>JUMBO STORAGE BAG SUKI</td>\n",
       "      <td>2</td>\n",
       "      <td>12/9/2010 20:01</td>\n",
       "      <td>1.95</td>\n",
       "      <td>17530.0</td>\n",
       "      <td>United Kingdom</td>\n",
       "    </tr>\n",
       "  </tbody>\n",
       "</table>\n",
       "<p>525461 rows × 8 columns</p>\n",
       "</div>"
      ],
      "text/plain": [
       "       Invoice StockCode                          Description  Quantity  \\\n",
       "0       489434     85048  15CM CHRISTMAS GLASS BALL 20 LIGHTS        12   \n",
       "1       489434    79323P                   PINK CHERRY LIGHTS        12   \n",
       "2       489434    79323W                  WHITE CHERRY LIGHTS        12   \n",
       "3       489434     22041         RECORD FRAME 7\" SINGLE SIZE         48   \n",
       "4       489434     21232       STRAWBERRY CERAMIC TRINKET BOX        24   \n",
       "...        ...       ...                                  ...       ...   \n",
       "525456  538171     22271                 FELTCRAFT DOLL ROSIE         2   \n",
       "525457  538171     22750         FELTCRAFT PRINCESS LOLA DOLL         1   \n",
       "525458  538171     22751       FELTCRAFT PRINCESS OLIVIA DOLL         1   \n",
       "525459  538171     20970   PINK FLORAL FELTCRAFT SHOULDER BAG         2   \n",
       "525460  538171     21931               JUMBO STORAGE BAG SUKI         2   \n",
       "\n",
       "            InvoiceDate  Price  Customer ID         Country  \n",
       "0        12/1/2009 7:45   6.95      13085.0  United Kingdom  \n",
       "1        12/1/2009 7:45   6.75      13085.0  United Kingdom  \n",
       "2        12/1/2009 7:45   6.75      13085.0  United Kingdom  \n",
       "3        12/1/2009 7:45   2.10      13085.0  United Kingdom  \n",
       "4        12/1/2009 7:45   1.25      13085.0  United Kingdom  \n",
       "...                 ...    ...          ...             ...  \n",
       "525456  12/9/2010 20:01   2.95      17530.0  United Kingdom  \n",
       "525457  12/9/2010 20:01   3.75      17530.0  United Kingdom  \n",
       "525458  12/9/2010 20:01   3.75      17530.0  United Kingdom  \n",
       "525459  12/9/2010 20:01   3.75      17530.0  United Kingdom  \n",
       "525460  12/9/2010 20:01   1.95      17530.0  United Kingdom  \n",
       "\n",
       "[525461 rows x 8 columns]"
      ]
     },
     "execution_count": 2,
     "metadata": {},
     "output_type": "execute_result"
    }
   ],
   "source": [
    "data"
   ]
  },
  {
   "cell_type": "code",
   "execution_count": 3,
   "metadata": {},
   "outputs": [
    {
     "name": "stdout",
     "output_type": "stream",
     "text": [
      "<class 'pandas.core.frame.DataFrame'>\n",
      "RangeIndex: 525461 entries, 0 to 525460\n",
      "Data columns (total 8 columns):\n",
      " #   Column       Non-Null Count   Dtype  \n",
      "---  ------       --------------   -----  \n",
      " 0   Invoice      525461 non-null  object \n",
      " 1   StockCode    525461 non-null  object \n",
      " 2   Description  522533 non-null  object \n",
      " 3   Quantity     525461 non-null  int64  \n",
      " 4   InvoiceDate  525461 non-null  object \n",
      " 5   Price        525461 non-null  float64\n",
      " 6   Customer ID  417534 non-null  float64\n",
      " 7   Country      525461 non-null  object \n",
      "dtypes: float64(2), int64(1), object(5)\n",
      "memory usage: 32.1+ MB\n"
     ]
    }
   ],
   "source": [
    "data.info()"
   ]
  },
  {
   "cell_type": "code",
   "execution_count": 4,
   "metadata": {},
   "outputs": [
    {
     "data": {
      "text/plain": [
       "Invoice        28816\n",
       "StockCode       4632\n",
       "Description     4681\n",
       "Quantity         825\n",
       "InvoiceDate    25296\n",
       "Price           1606\n",
       "Customer ID     4383\n",
       "Country           40\n",
       "dtype: int64"
      ]
     },
     "execution_count": 4,
     "metadata": {},
     "output_type": "execute_result"
    }
   ],
   "source": [
    "data.nunique()"
   ]
  },
  {
   "cell_type": "markdown",
   "metadata": {},
   "source": [
    "# Data Cleaning"
   ]
  },
  {
   "cell_type": "code",
   "execution_count": 5,
   "metadata": {},
   "outputs": [],
   "source": [
    "#change data type of date\n",
    "data['InvoiceDate'] = pd.to_datetime(data['InvoiceDate'])"
   ]
  },
  {
   "cell_type": "code",
   "execution_count": 6,
   "metadata": {},
   "outputs": [],
   "source": [
    "#create separate columns for year, date, time\n",
    "data['InvoiceTime'] = data['InvoiceDate'].dt.time\n",
    "data['InvoiceYear'] = data['InvoiceDate'].dt.year"
   ]
  },
  {
   "cell_type": "code",
   "execution_count": 7,
   "metadata": {},
   "outputs": [],
   "source": [
    "#create separate columns for unit price \n",
    "data['UnitPrice'] = round(data['Price'] / data['Quantity'], 2)"
   ]
  },
  {
   "cell_type": "code",
   "execution_count": 8,
   "metadata": {},
   "outputs": [],
   "source": [
    "#multiply units with Price to get total price \n",
    "data['TotalPrice'] = round(data['Price'] * data['Quantity'], 2)\n",
    "# data = data.rename(columns={'Price': 'TotalPrice'})"
   ]
  },
  {
   "cell_type": "code",
   "execution_count": 9,
   "metadata": {},
   "outputs": [],
   "source": [
    "#for now, I'll be working with purchased products\n",
    "#so I'll only set aside returned products(price <= 0) for now\n",
    "\n",
    "purchase_data = data[-(data['Quantity']<= 0)]"
   ]
  },
  {
   "cell_type": "code",
   "execution_count": null,
   "metadata": {},
   "outputs": [],
   "source": []
  },
  {
   "cell_type": "markdown",
   "metadata": {},
   "source": [
    "# Purchase Frequency by Country, Product, Year"
   ]
  },
  {
   "cell_type": "code",
   "execution_count": 292,
   "metadata": {},
   "outputs": [
    {
     "data": {
      "image/png": "[encoded data removed]",
      "text/plain": [
       "<Figure size 432x288 with 1 Axes>"
      ]
     },
     "metadata": {
      "needs_background": "light"
     },
     "output_type": "display_data"
    }
   ],
   "source": [
    "purchase_data['Country'].value_counts()[:10].plot(kind='bar')\n",
    "\n",
    "plt.title('Purchase Frequency by Country')\n",
    "plt.xlabel('Country', fontsize=12)\n",
    "plt.ylabel('Frequency', fontsize=12)\n",
    "plt.savefig('purch_freq_country.png', bbox_inches = 'tight')"
   ]
  },
  {
   "cell_type": "code",
   "execution_count": 293,
   "metadata": {},
   "outputs": [
    {
     "data": {
      "image/png": "[encoded data removed]",
      "text/plain": [
       "<Figure size 432x288 with 1 Axes>"
      ]
     },
     "metadata": {
      "needs_background": "light"
     },
     "output_type": "display_data"
    }
   ],
   "source": [
    "purchase_data['Description'].value_counts()[:10].plot(kind='bar')\n",
    "\n",
    "plt.title('Purchase Frequency by Product')\n",
    "plt.xlabel('Product', fontsize=12)\n",
    "plt.ylabel('Frequency', fontsize=12)\n",
    "plt.savefig('purch_freq_product.png', bbox_inches = 'tight')"
   ]
  },
  {
   "cell_type": "code",
   "execution_count": 294,
   "metadata": {},
   "outputs": [
    {
     "data": {
      "image/png": "[encoded data removed]",
      "text/plain": [
       "<Figure size 432x288 with 1 Axes>"
      ]
     },
     "metadata": {
      "needs_background": "light"
     },
     "output_type": "display_data"
    }
   ],
   "source": [
    "purchase_data['InvoiceYear'].value_counts().plot(kind='bar')\n",
    "\n",
    "plt.title('Purchase Frequency by Year')\n",
    "plt.xlabel('Year', fontsize=12)\n",
    "plt.ylabel('Frequency ', fontsize=12)\n",
    "plt.savefig('purch_freq_year.png', bbox_inches = 'tight')"
   ]
  },
  {
   "cell_type": "markdown",
   "metadata": {},
   "source": [
    "# Purchase Amount (\\$) by Country, Product, Year"
   ]
  },
  {
   "cell_type": "code",
   "execution_count": 295,
   "metadata": {},
   "outputs": [
    {
     "data": {
      "image/png": "[encoded data removed]",
      "text/plain": [
       "<Figure size 432x288 with 1 Axes>"
      ]
     },
     "metadata": {
      "needs_background": "light"
     },
     "output_type": "display_data"
    }
   ],
   "source": [
    "purchase_data.groupby('Country')['TotalPrice'].sum().sort_values(ascending=False).head(10).plot(kind='bar')\n",
    "\n",
    "plt.title('Purchase Amount by Country')\n",
    "plt.xlabel('Country', fontsize=12)\n",
    "plt.ylabel('Amount', fontsize=12)\n",
    "plt.savefig('purch_amt_country.png', bbox_inches = 'tight')"
   ]
  },
  {
   "cell_type": "code",
   "execution_count": 296,
   "metadata": {},
   "outputs": [
    {
     "data": {
      "image/png": "[encoded data removed]",
      "text/plain": [
       "<Figure size 432x288 with 1 Axes>"
      ]
     },
     "metadata": {
      "needs_background": "light"
     },
     "output_type": "display_data"
    }
   ],
   "source": [
    "purchase_data.groupby('Description')['TotalPrice'].sum().sort_values(ascending=False).head(10).plot(kind='bar')\n",
    "\n",
    "plt.title('Purchase Amount by Product')\n",
    "plt.xlabel('Product', fontsize=12)\n",
    "plt.ylabel('Amount', fontsize=12)\n",
    "plt.savefig('purch_amt_product.png', bbox_inches = 'tight')"
   ]
  },
  {
   "cell_type": "code",
   "execution_count": 297,
   "metadata": {},
   "outputs": [
    {
     "data": {
      "image/png": "[encoded data removed]",
      "text/plain": [
       "<Figure size 432x288 with 1 Axes>"
      ]
     },
     "metadata": {
      "needs_background": "light"
     },
     "output_type": "display_data"
    }
   ],
   "source": [
    "purchase_data.groupby('InvoiceYear')['TotalPrice'].sum().sort_values(ascending=False).head(10).plot(kind='bar')\n",
    "\n",
    "plt.title('Purchase Amount by Year')\n",
    "plt.xlabel('Year', fontsize=12)\n",
    "plt.ylabel('Amount', fontsize=12)\n",
    "plt.savefig('purch_amt_year.png', bbox_inches = 'tight')"
   ]
  },
  {
   "cell_type": "code",
   "execution_count": null,
   "metadata": {},
   "outputs": [],
   "source": []
  },
  {
   "cell_type": "markdown",
   "metadata": {},
   "source": [
    "# Working with UK Customers (Major Market)"
   ]
  },
  {
   "cell_type": "code",
   "execution_count": 10,
   "metadata": {},
   "outputs": [],
   "source": [
    "UK_data = purchase_data[purchase_data['Country'] =='United Kingdom']"
   ]
  },
  {
   "cell_type": "markdown",
   "metadata": {},
   "source": [
    "# Repeat purchase rate (RPR) whole"
   ]
  },
  {
   "cell_type": "code",
   "execution_count": 250,
   "metadata": {},
   "outputs": [],
   "source": [
    "#Repeat purchase rate = Number of customers that bought more than once/ Total number of customers"
   ]
  },
  {
   "cell_type": "code",
   "execution_count": 251,
   "metadata": {},
   "outputs": [
    {
     "data": {
      "text/plain": [
       "3971"
      ]
     },
     "execution_count": 251,
     "metadata": {},
     "output_type": "execute_result"
    }
   ],
   "source": [
    "UK_data['Customer ID'].nunique()"
   ]
  },
  {
   "cell_type": "code",
   "execution_count": 252,
   "metadata": {},
   "outputs": [
    {
     "data": {
      "text/html": [
       "<div>\n",
       "<style scoped>\n",
       "    .dataframe tbody tr th:only-of-type {\n",
       "        vertical-align: middle;\n",
       "    }\n",
       "\n",
       "    .dataframe tbody tr th {\n",
       "        vertical-align: top;\n",
       "    }\n",
       "\n",
       "    .dataframe thead th {\n",
       "        text-align: right;\n",
       "    }\n",
       "</style>\n",
       "<table border=\"1\" class=\"dataframe\">\n",
       "  <thead>\n",
       "    <tr style=\"text-align: right;\">\n",
       "      <th></th>\n",
       "      <th>Customer ID</th>\n",
       "    </tr>\n",
       "  </thead>\n",
       "  <tbody>\n",
       "    <tr>\n",
       "      <th>17841.0</th>\n",
       "      <td>5043</td>\n",
       "    </tr>\n",
       "    <tr>\n",
       "      <th>14606.0</th>\n",
       "      <td>3866</td>\n",
       "    </tr>\n",
       "    <tr>\n",
       "      <th>12748.0</th>\n",
       "      <td>2634</td>\n",
       "    </tr>\n",
       "    <tr>\n",
       "      <th>17850.0</th>\n",
       "      <td>2499</td>\n",
       "    </tr>\n",
       "    <tr>\n",
       "      <th>16549.0</th>\n",
       "      <td>2269</td>\n",
       "    </tr>\n",
       "    <tr>\n",
       "      <th>...</th>\n",
       "      <td>...</td>\n",
       "    </tr>\n",
       "    <tr>\n",
       "      <th>14086.0</th>\n",
       "      <td>1</td>\n",
       "    </tr>\n",
       "    <tr>\n",
       "      <th>13551.0</th>\n",
       "      <td>1</td>\n",
       "    </tr>\n",
       "    <tr>\n",
       "      <th>14827.0</th>\n",
       "      <td>1</td>\n",
       "    </tr>\n",
       "    <tr>\n",
       "      <th>14380.0</th>\n",
       "      <td>1</td>\n",
       "    </tr>\n",
       "    <tr>\n",
       "      <th>15999.0</th>\n",
       "      <td>1</td>\n",
       "    </tr>\n",
       "  </tbody>\n",
       "</table>\n",
       "<p>3971 rows × 1 columns</p>\n",
       "</div>"
      ],
      "text/plain": [
       "         Customer ID\n",
       "17841.0         5043\n",
       "14606.0         3866\n",
       "12748.0         2634\n",
       "17850.0         2499\n",
       "16549.0         2269\n",
       "...              ...\n",
       "14086.0            1\n",
       "13551.0            1\n",
       "14827.0            1\n",
       "14380.0            1\n",
       "15999.0            1\n",
       "\n",
       "[3971 rows x 1 columns]"
      ]
     },
     "execution_count": 252,
     "metadata": {},
     "output_type": "execute_result"
    }
   ],
   "source": [
    "df = UK_data['Customer ID'].value_counts()\n",
    "df = pd.DataFrame(df)\n",
    "df"
   ]
  },
  {
   "cell_type": "code",
   "execution_count": 253,
   "metadata": {},
   "outputs": [
    {
     "data": {
      "text/html": [
       "<div>\n",
       "<style scoped>\n",
       "    .dataframe tbody tr th:only-of-type {\n",
       "        vertical-align: middle;\n",
       "    }\n",
       "\n",
       "    .dataframe tbody tr th {\n",
       "        vertical-align: top;\n",
       "    }\n",
       "\n",
       "    .dataframe thead th {\n",
       "        text-align: right;\n",
       "    }\n",
       "</style>\n",
       "<table border=\"1\" class=\"dataframe\">\n",
       "  <thead>\n",
       "    <tr style=\"text-align: right;\">\n",
       "      <th></th>\n",
       "      <th>Count</th>\n",
       "    </tr>\n",
       "  </thead>\n",
       "  <tbody>\n",
       "    <tr>\n",
       "      <th>17841.0</th>\n",
       "      <td>5043</td>\n",
       "    </tr>\n",
       "    <tr>\n",
       "      <th>14606.0</th>\n",
       "      <td>3866</td>\n",
       "    </tr>\n",
       "    <tr>\n",
       "      <th>12748.0</th>\n",
       "      <td>2634</td>\n",
       "    </tr>\n",
       "    <tr>\n",
       "      <th>17850.0</th>\n",
       "      <td>2499</td>\n",
       "    </tr>\n",
       "    <tr>\n",
       "      <th>16549.0</th>\n",
       "      <td>2269</td>\n",
       "    </tr>\n",
       "    <tr>\n",
       "      <th>...</th>\n",
       "      <td>...</td>\n",
       "    </tr>\n",
       "    <tr>\n",
       "      <th>14086.0</th>\n",
       "      <td>1</td>\n",
       "    </tr>\n",
       "    <tr>\n",
       "      <th>13551.0</th>\n",
       "      <td>1</td>\n",
       "    </tr>\n",
       "    <tr>\n",
       "      <th>14827.0</th>\n",
       "      <td>1</td>\n",
       "    </tr>\n",
       "    <tr>\n",
       "      <th>14380.0</th>\n",
       "      <td>1</td>\n",
       "    </tr>\n",
       "    <tr>\n",
       "      <th>15999.0</th>\n",
       "      <td>1</td>\n",
       "    </tr>\n",
       "  </tbody>\n",
       "</table>\n",
       "<p>3971 rows × 1 columns</p>\n",
       "</div>"
      ],
      "text/plain": [
       "         Count\n",
       "17841.0   5043\n",
       "14606.0   3866\n",
       "12748.0   2634\n",
       "17850.0   2499\n",
       "16549.0   2269\n",
       "...        ...\n",
       "14086.0      1\n",
       "13551.0      1\n",
       "14827.0      1\n",
       "14380.0      1\n",
       "15999.0      1\n",
       "\n",
       "[3971 rows x 1 columns]"
      ]
     },
     "execution_count": 253,
     "metadata": {},
     "output_type": "execute_result"
    }
   ],
   "source": [
    "df = df.rename(columns = {'Customer ID': 'Count'})\n",
    "df"
   ]
  },
  {
   "cell_type": "code",
   "execution_count": 254,
   "metadata": {},
   "outputs": [],
   "source": [
    "df.to_csv('./rpr.csv')"
   ]
  },
  {
   "cell_type": "code",
   "execution_count": 255,
   "metadata": {},
   "outputs": [
    {
     "data": {
      "text/plain": [
       "0.9788466381264165"
      ]
     },
     "execution_count": 255,
     "metadata": {},
     "output_type": "execute_result"
    }
   ],
   "source": [
    "#Number of customers that bought more than once/ Total number of customers\n",
    "\n",
    "len(df[df['Count'] > 1]) / len(df)"
   ]
  },
  {
   "cell_type": "markdown",
   "metadata": {},
   "source": [
    "# Repeat Purchase Rate (Year wise)"
   ]
  },
  {
   "cell_type": "code",
   "execution_count": 210,
   "metadata": {},
   "outputs": [],
   "source": [
    "UK_09 = UK_data[UK_data['InvoiceYear'] == 2009]\n",
    "UK_10 = UK_data[UK_data['InvoiceYear'] == 2010]"
   ]
  },
  {
   "cell_type": "code",
   "execution_count": 214,
   "metadata": {},
   "outputs": [],
   "source": [
    "mini_09 = UK_09['Customer ID'].value_counts()\n",
    "mini_10 = UK_10['Customer ID'].value_counts()"
   ]
  },
  {
   "cell_type": "code",
   "execution_count": 215,
   "metadata": {},
   "outputs": [],
   "source": [
    "mini_09 = pd.DataFrame(mini_09)\n",
    "mini_09 = mini_09.reset_index()\n",
    "\n",
    "mini_10 = pd.DataFrame(mini_10)\n",
    "mini_10 = mini_10.reset_index()"
   ]
  },
  {
   "cell_type": "code",
   "execution_count": 256,
   "metadata": {},
   "outputs": [
    {
     "data": {
      "text/html": [
       "<div>\n",
       "<style scoped>\n",
       "    .dataframe tbody tr th:only-of-type {\n",
       "        vertical-align: middle;\n",
       "    }\n",
       "\n",
       "    .dataframe tbody tr th {\n",
       "        vertical-align: top;\n",
       "    }\n",
       "\n",
       "    .dataframe thead th {\n",
       "        text-align: right;\n",
       "    }\n",
       "</style>\n",
       "<table border=\"1\" class=\"dataframe\">\n",
       "  <thead>\n",
       "    <tr style=\"text-align: right;\">\n",
       "      <th></th>\n",
       "      <th>ID</th>\n",
       "      <th>frequency</th>\n",
       "    </tr>\n",
       "  </thead>\n",
       "  <tbody>\n",
       "    <tr>\n",
       "      <th>0</th>\n",
       "      <td>17841.0</td>\n",
       "      <td>4506</td>\n",
       "    </tr>\n",
       "    <tr>\n",
       "      <th>1</th>\n",
       "      <td>14606.0</td>\n",
       "      <td>3557</td>\n",
       "    </tr>\n",
       "    <tr>\n",
       "      <th>2</th>\n",
       "      <td>12748.0</td>\n",
       "      <td>2548</td>\n",
       "    </tr>\n",
       "    <tr>\n",
       "      <th>3</th>\n",
       "      <td>16549.0</td>\n",
       "      <td>2269</td>\n",
       "    </tr>\n",
       "    <tr>\n",
       "      <th>4</th>\n",
       "      <td>17850.0</td>\n",
       "      <td>2240</td>\n",
       "    </tr>\n",
       "    <tr>\n",
       "      <th>...</th>\n",
       "      <td>...</td>\n",
       "      <td>...</td>\n",
       "    </tr>\n",
       "    <tr>\n",
       "      <th>3858</th>\n",
       "      <td>14380.0</td>\n",
       "      <td>1</td>\n",
       "    </tr>\n",
       "    <tr>\n",
       "      <th>3859</th>\n",
       "      <td>13205.0</td>\n",
       "      <td>1</td>\n",
       "    </tr>\n",
       "    <tr>\n",
       "      <th>3860</th>\n",
       "      <td>14366.0</td>\n",
       "      <td>1</td>\n",
       "    </tr>\n",
       "    <tr>\n",
       "      <th>3861</th>\n",
       "      <td>13215.0</td>\n",
       "      <td>1</td>\n",
       "    </tr>\n",
       "    <tr>\n",
       "      <th>3862</th>\n",
       "      <td>13829.0</td>\n",
       "      <td>1</td>\n",
       "    </tr>\n",
       "  </tbody>\n",
       "</table>\n",
       "<p>3863 rows × 2 columns</p>\n",
       "</div>"
      ],
      "text/plain": [
       "           ID  frequency\n",
       "0     17841.0       4506\n",
       "1     14606.0       3557\n",
       "2     12748.0       2548\n",
       "3     16549.0       2269\n",
       "4     17850.0       2240\n",
       "...       ...        ...\n",
       "3858  14380.0          1\n",
       "3859  13205.0          1\n",
       "3860  14366.0          1\n",
       "3861  13215.0          1\n",
       "3862  13829.0          1\n",
       "\n",
       "[3863 rows x 2 columns]"
      ]
     },
     "execution_count": 256,
     "metadata": {},
     "output_type": "execute_result"
    }
   ],
   "source": [
    "mini_10"
   ]
  },
  {
   "cell_type": "code",
   "execution_count": 257,
   "metadata": {},
   "outputs": [
    {
     "data": {
      "text/html": [
       "<div>\n",
       "<style scoped>\n",
       "    .dataframe tbody tr th:only-of-type {\n",
       "        vertical-align: middle;\n",
       "    }\n",
       "\n",
       "    .dataframe tbody tr th {\n",
       "        vertical-align: top;\n",
       "    }\n",
       "\n",
       "    .dataframe thead th {\n",
       "        text-align: right;\n",
       "    }\n",
       "</style>\n",
       "<table border=\"1\" class=\"dataframe\">\n",
       "  <thead>\n",
       "    <tr style=\"text-align: right;\">\n",
       "      <th></th>\n",
       "      <th>ID</th>\n",
       "      <th>frequency</th>\n",
       "    </tr>\n",
       "  </thead>\n",
       "  <tbody>\n",
       "    <tr>\n",
       "      <th>0</th>\n",
       "      <td>17841.0</td>\n",
       "      <td>537</td>\n",
       "    </tr>\n",
       "    <tr>\n",
       "      <th>1</th>\n",
       "      <td>14527.0</td>\n",
       "      <td>356</td>\n",
       "    </tr>\n",
       "    <tr>\n",
       "      <th>2</th>\n",
       "      <td>15311.0</td>\n",
       "      <td>313</td>\n",
       "    </tr>\n",
       "    <tr>\n",
       "      <th>3</th>\n",
       "      <td>14606.0</td>\n",
       "      <td>309</td>\n",
       "    </tr>\n",
       "    <tr>\n",
       "      <th>4</th>\n",
       "      <td>17850.0</td>\n",
       "      <td>259</td>\n",
       "    </tr>\n",
       "    <tr>\n",
       "      <th>...</th>\n",
       "      <td>...</td>\n",
       "      <td>...</td>\n",
       "    </tr>\n",
       "    <tr>\n",
       "      <th>899</th>\n",
       "      <td>15956.0</td>\n",
       "      <td>1</td>\n",
       "    </tr>\n",
       "    <tr>\n",
       "      <th>900</th>\n",
       "      <td>16308.0</td>\n",
       "      <td>1</td>\n",
       "    </tr>\n",
       "    <tr>\n",
       "      <th>901</th>\n",
       "      <td>14106.0</td>\n",
       "      <td>1</td>\n",
       "    </tr>\n",
       "    <tr>\n",
       "      <th>902</th>\n",
       "      <td>17262.0</td>\n",
       "      <td>1</td>\n",
       "    </tr>\n",
       "    <tr>\n",
       "      <th>903</th>\n",
       "      <td>15181.0</td>\n",
       "      <td>1</td>\n",
       "    </tr>\n",
       "  </tbody>\n",
       "</table>\n",
       "<p>904 rows × 2 columns</p>\n",
       "</div>"
      ],
      "text/plain": [
       "          ID  frequency\n",
       "0    17841.0        537\n",
       "1    14527.0        356\n",
       "2    15311.0        313\n",
       "3    14606.0        309\n",
       "4    17850.0        259\n",
       "..       ...        ...\n",
       "899  15956.0          1\n",
       "900  16308.0          1\n",
       "901  14106.0          1\n",
       "902  17262.0          1\n",
       "903  15181.0          1\n",
       "\n",
       "[904 rows x 2 columns]"
      ]
     },
     "execution_count": 257,
     "metadata": {},
     "output_type": "execute_result"
    }
   ],
   "source": [
    "mini_09"
   ]
  },
  {
   "cell_type": "code",
   "execution_count": 220,
   "metadata": {},
   "outputs": [],
   "source": [
    "mini_10 = mini_10.rename(columns = {'index': 'ID', 'Customer ID': 'frequency'})\n",
    "mini_09 = mini_09.rename(columns = {'index': 'ID', 'Customer ID': 'frequency'})"
   ]
  },
  {
   "cell_type": "code",
   "execution_count": 221,
   "metadata": {},
   "outputs": [
    {
     "data": {
      "text/plain": [
       "904"
      ]
     },
     "execution_count": 221,
     "metadata": {},
     "output_type": "execute_result"
    }
   ],
   "source": [
    "mini_09['ID'].nunique()"
   ]
  },
  {
   "cell_type": "code",
   "execution_count": 223,
   "metadata": {},
   "outputs": [
    {
     "data": {
      "text/plain": [
       "880"
      ]
     },
     "execution_count": 223,
     "metadata": {},
     "output_type": "execute_result"
    }
   ],
   "source": [
    "len(mini_09[mini_09['frequency'] > 1])"
   ]
  },
  {
   "cell_type": "code",
   "execution_count": 224,
   "metadata": {},
   "outputs": [
    {
     "data": {
      "text/plain": [
       "3781"
      ]
     },
     "execution_count": 224,
     "metadata": {},
     "output_type": "execute_result"
    }
   ],
   "source": [
    "len(mini_10[mini_10['frequency'] > 1])"
   ]
  },
  {
   "cell_type": "code",
   "execution_count": 225,
   "metadata": {},
   "outputs": [
    {
     "data": {
      "text/plain": [
       "0.9734513274336283"
      ]
     },
     "execution_count": 225,
     "metadata": {},
     "output_type": "execute_result"
    }
   ],
   "source": [
    "RPR_09 = len(mini_09[mini_09['frequency'] > 1]) / mini_09['ID'].nunique()\n",
    "RPR_09"
   ]
  },
  {
   "cell_type": "code",
   "execution_count": 226,
   "metadata": {},
   "outputs": [
    {
     "data": {
      "text/plain": [
       "0.9787729743722495"
      ]
     },
     "execution_count": 226,
     "metadata": {},
     "output_type": "execute_result"
    }
   ],
   "source": [
    "RPR_10 = len(mini_10[mini_10['frequency'] > 1]) / mini_10['ID'].nunique()\n",
    "RPR_10"
   ]
  },
  {
   "cell_type": "code",
   "execution_count": 288,
   "metadata": {},
   "outputs": [
    {
     "data": {
      "text/html": [
       "<style  type=\"text/css\" >\n",
       "</style><table id=\"T_944113fa_a970_11ec_a0a2_acde48001122\" ><caption>Retention Metrics</caption><thead>    <tr>        <th class=\"blank level0\" ></th>        <th class=\"col_heading level0 col0\" >2009</th>        <th class=\"col_heading level0 col1\" >2010</th>    </tr></thead><tbody>\n",
       "                <tr>\n",
       "                        <th id=\"T_944113fa_a970_11ec_a0a2_acde48001122level0_row0\" class=\"row_heading level0 row0\" >RPR</th>\n",
       "                        <td id=\"T_944113fa_a970_11ec_a0a2_acde48001122row0_col0\" class=\"data row0 col0\" >97.345133</td>\n",
       "                        <td id=\"T_944113fa_a970_11ec_a0a2_acde48001122row0_col1\" class=\"data row0 col1\" >97.877297</td>\n",
       "            </tr>\n",
       "            <tr>\n",
       "                        <th id=\"T_944113fa_a970_11ec_a0a2_acde48001122level0_row1\" class=\"row_heading level0 row1\" >PF</th>\n",
       "                        <td id=\"T_944113fa_a970_11ec_a0a2_acde48001122row1_col0\" class=\"data row1 col0\" >1.938053</td>\n",
       "                        <td id=\"T_944113fa_a970_11ec_a0a2_acde48001122row1_col1\" class=\"data row1 col1\" >4.838468</td>\n",
       "            </tr>\n",
       "            <tr>\n",
       "                        <th id=\"T_944113fa_a970_11ec_a0a2_acde48001122level0_row2\" class=\"row_heading level0 row2\" >TBP</th>\n",
       "                        <td id=\"T_944113fa_a970_11ec_a0a2_acde48001122row2_col0\" class=\"data row2 col0\" >188.333333</td>\n",
       "                        <td id=\"T_944113fa_a970_11ec_a0a2_acde48001122row2_col1\" class=\"data row2 col1\" >75.437109</td>\n",
       "            </tr>\n",
       "    </tbody></table>"
      ],
      "text/plain": [
       "<pandas.io.formats.style.Styler at 0x7fa4d24e45f8>"
      ]
     },
     "execution_count": 288,
     "metadata": {},
     "output_type": "execute_result"
    }
   ],
   "source": [
    "\n",
    "rpr = pd.DataFrame({'2009': (RPR_09)*100 ,'2010':(RPR_10)*100}, index=['RPR'])\n",
    "pf = pd.DataFrame({'2009': PF_09, '2010': PF_10}, index=['PF'])\n",
    "tbp = pd.DataFrame({'2009': TBP_09, '2010': TBP_10}, index=['TBP'])\n",
    "\n",
    "m_df = pd.concat([rpr, pf, tbp], ignore_index=False)\n",
    "m_df = m_df.style.set_caption(\"Retention Metrics\")\n",
    "m_df\n"
   ]
  },
  {
   "cell_type": "code",
   "execution_count": 289,
   "metadata": {},
   "outputs": [
    {
     "name": "stderr",
     "output_type": "stream",
     "text": [
      "[0322/004238.550280:INFO:headless_shell.cc(659)] Written to file /var/folders/r6/chkvrc_s7zggf95ldb8k0vkh0000gn/T/tmps_0k5jlq/temp.png.\n"
     ]
    }
   ],
   "source": [
    "import dataframe_image as dfi\n",
    "df.style.set_caption(\"Hello World\")\n",
    "\n",
    "dfi.export(m_df, 'rate_table.png')"
   ]
  },
  {
   "cell_type": "markdown",
   "metadata": {},
   "source": [
    "# Purchase Frequency"
   ]
  },
  {
   "cell_type": "code",
   "execution_count": null,
   "metadata": {},
   "outputs": [],
   "source": [
    "##Purchase frequency = Number of orders in the last 365 days/ Number of unique customers over the last 365 days"
   ]
  },
  {
   "cell_type": "code",
   "execution_count": 261,
   "metadata": {},
   "outputs": [],
   "source": [
    "UK_09 = UK_data[UK_data['InvoiceYear'] == 2009]\n",
    "UK_10 = UK_data[UK_data['InvoiceYear'] == 2010]"
   ]
  },
  {
   "cell_type": "code",
   "execution_count": 262,
   "metadata": {},
   "outputs": [
    {
     "data": {
      "text/plain": [
       "904"
      ]
     },
     "execution_count": 262,
     "metadata": {},
     "output_type": "execute_result"
    }
   ],
   "source": [
    "UK_09['Customer ID'].nunique()"
   ]
  },
  {
   "cell_type": "code",
   "execution_count": 263,
   "metadata": {},
   "outputs": [
    {
     "data": {
      "text/plain": [
       "1752"
      ]
     },
     "execution_count": 263,
     "metadata": {},
     "output_type": "execute_result"
    }
   ],
   "source": [
    "UK_09['Invoice'].nunique()"
   ]
  },
  {
   "cell_type": "code",
   "execution_count": 264,
   "metadata": {},
   "outputs": [
    {
     "data": {
      "text/plain": [
       "1.9380530973451326"
      ]
     },
     "execution_count": 264,
     "metadata": {},
     "output_type": "execute_result"
    }
   ],
   "source": [
    "PF_09 = UK_09['Invoice'].nunique() / UK_09['Customer ID'].nunique()\n",
    "PF_09"
   ]
  },
  {
   "cell_type": "code",
   "execution_count": 265,
   "metadata": {},
   "outputs": [
    {
     "data": {
      "text/plain": [
       "4.838467512296143"
      ]
     },
     "execution_count": 265,
     "metadata": {},
     "output_type": "execute_result"
    }
   ],
   "source": [
    "PF_10 =UK_10['Invoice'].nunique() / UK_10['Customer ID'].nunique()\n",
    "PF_10"
   ]
  },
  {
   "cell_type": "code",
   "execution_count": 266,
   "metadata": {},
   "outputs": [],
   "source": [
    "UK_09.to_csv('./PF_09.csv')\n",
    "UK_10.to_csv('./PF_10.csv')"
   ]
  },
  {
   "cell_type": "markdown",
   "metadata": {},
   "source": [
    "# Time Between Purchases"
   ]
  },
  {
   "cell_type": "code",
   "execution_count": 246,
   "metadata": {},
   "outputs": [
    {
     "data": {
      "text/plain": [
       "188.33333333333334"
      ]
     },
     "execution_count": 246,
     "metadata": {},
     "output_type": "execute_result"
    }
   ],
   "source": [
    "TBP_09 = 365/ PF_09\n",
    "TBP_09"
   ]
  },
  {
   "cell_type": "code",
   "execution_count": 247,
   "metadata": {},
   "outputs": [
    {
     "data": {
      "text/plain": [
       "75.43710876892622"
      ]
     },
     "execution_count": 247,
     "metadata": {},
     "output_type": "execute_result"
    }
   ],
   "source": [
    "TBP_10 = 365/ PF_10\n",
    "TBP_10"
   ]
  },
  {
   "cell_type": "markdown",
   "metadata": {},
   "source": [
    "# Customer Segmentation based on Recency, Frequency, Monetization\n",
    "\n",
    "- Recency: Date of Last of Purchase\n",
    "- Frequency: Total Number of Orders\n",
    "- Monetization: Average Order Value\n",
    "- Timeframe: 2 years \n"
   ]
  },
  {
   "cell_type": "code",
   "execution_count": 11,
   "metadata": {},
   "outputs": [
    {
     "data": {
      "text/plain": [
       "Timestamp('2009-12-01 07:45:00')"
      ]
     },
     "execution_count": 11,
     "metadata": {},
     "output_type": "execute_result"
    }
   ],
   "source": [
    "UK_data['InvoiceDate'].min()"
   ]
  },
  {
   "cell_type": "code",
   "execution_count": 12,
   "metadata": {},
   "outputs": [],
   "source": [
    "PRESENT = UK_data['InvoiceDate'].max()"
   ]
  },
  {
   "cell_type": "code",
   "execution_count": 13,
   "metadata": {},
   "outputs": [],
   "source": [
    "#For Recency, Calculate the number of days between present date and date of last purchase each customer.\n",
    "#For Frequency, Calculate the number of orders for each customer.\n",
    "#For Monetary, Calculate sum of purchase price for each customer.\n",
    "\n",
    "rfm= UK_data.groupby('Customer ID').agg({'InvoiceDate': lambda date: (PRESENT - date.max()).days,\n",
    "                                        'Invoice': lambda num: len(num),\n",
    "                                        'TotalPrice': lambda price: price.sum()})"
   ]
  },
  {
   "cell_type": "code",
   "execution_count": 14,
   "metadata": {},
   "outputs": [
    {
     "data": {
      "text/plain": [
       "Index(['InvoiceDate', 'Invoice', 'TotalPrice'], dtype='object')"
      ]
     },
     "execution_count": 14,
     "metadata": {},
     "output_type": "execute_result"
    }
   ],
   "source": [
    "rfm.columns"
   ]
  },
  {
   "cell_type": "code",
   "execution_count": 15,
   "metadata": {},
   "outputs": [],
   "source": [
    "rfm = rfm.rename(columns = {'InvoiceDate':'recency', 'Invoice': 'frequency', 'TotalPrice':'monetary'})"
   ]
  },
  {
   "cell_type": "code",
   "execution_count": 16,
   "metadata": {},
   "outputs": [],
   "source": [
    "rfm['recency'] = rfm['recency']"
   ]
  },
  {
   "cell_type": "code",
   "execution_count": 17,
   "metadata": {},
   "outputs": [
    {
     "name": "stdout",
     "output_type": "stream",
     "text": [
      "<class 'pandas.core.frame.DataFrame'>\n",
      "Float64Index: 3971 entries, 12346.0 to 18287.0\n",
      "Data columns (total 3 columns):\n",
      " #   Column     Non-Null Count  Dtype  \n",
      "---  ------     --------------  -----  \n",
      " 0   recency    3971 non-null   int64  \n",
      " 1   frequency  3971 non-null   int64  \n",
      " 2   monetary   3971 non-null   float64\n",
      "dtypes: float64(1), int64(2)\n",
      "memory usage: 124.1 KB\n"
     ]
    }
   ],
   "source": [
    "rfm.info()"
   ]
  },
  {
   "cell_type": "code",
   "execution_count": null,
   "metadata": {},
   "outputs": [],
   "source": []
  },
  {
   "cell_type": "code",
   "execution_count": 18,
   "metadata": {
    "scrolled": true
   },
   "outputs": [
    {
     "data": {
      "text/html": [
       "<div>\n",
       "<style scoped>\n",
       "    .dataframe tbody tr th:only-of-type {\n",
       "        vertical-align: middle;\n",
       "    }\n",
       "\n",
       "    .dataframe tbody tr th {\n",
       "        vertical-align: top;\n",
       "    }\n",
       "\n",
       "    .dataframe thead th {\n",
       "        text-align: right;\n",
       "    }\n",
       "</style>\n",
       "<table border=\"1\" class=\"dataframe\">\n",
       "  <thead>\n",
       "    <tr style=\"text-align: right;\">\n",
       "      <th></th>\n",
       "      <th>recency</th>\n",
       "      <th>frequency</th>\n",
       "      <th>monetary</th>\n",
       "    </tr>\n",
       "    <tr>\n",
       "      <th>Customer ID</th>\n",
       "      <th></th>\n",
       "      <th></th>\n",
       "      <th></th>\n",
       "    </tr>\n",
       "  </thead>\n",
       "  <tbody>\n",
       "    <tr>\n",
       "      <th>12346.0</th>\n",
       "      <td>164</td>\n",
       "      <td>33</td>\n",
       "      <td>372.86</td>\n",
       "    </tr>\n",
       "    <tr>\n",
       "      <th>12608.0</th>\n",
       "      <td>39</td>\n",
       "      <td>16</td>\n",
       "      <td>415.79</td>\n",
       "    </tr>\n",
       "    <tr>\n",
       "      <th>12745.0</th>\n",
       "      <td>121</td>\n",
       "      <td>22</td>\n",
       "      <td>723.85</td>\n",
       "    </tr>\n",
       "    <tr>\n",
       "      <th>12746.0</th>\n",
       "      <td>175</td>\n",
       "      <td>17</td>\n",
       "      <td>254.55</td>\n",
       "    </tr>\n",
       "    <tr>\n",
       "      <th>12747.0</th>\n",
       "      <td>4</td>\n",
       "      <td>154</td>\n",
       "      <td>5080.53</td>\n",
       "    </tr>\n",
       "  </tbody>\n",
       "</table>\n",
       "</div>"
      ],
      "text/plain": [
       "             recency  frequency  monetary\n",
       "Customer ID                              \n",
       "12346.0          164         33    372.86\n",
       "12608.0           39         16    415.79\n",
       "12745.0          121         22    723.85\n",
       "12746.0          175         17    254.55\n",
       "12747.0            4        154   5080.53"
      ]
     },
     "execution_count": 18,
     "metadata": {},
     "output_type": "execute_result"
    }
   ],
   "source": [
    "rfm.head()"
   ]
  },
  {
   "cell_type": "code",
   "execution_count": 19,
   "metadata": {},
   "outputs": [],
   "source": [
    "#higher number = higher score\n",
    "rfm['r_quartile'] = pd.qcut(rfm['recency'], 5, ['5','4','3','2','1']) #lower the better\n",
    "rfm['f_quartile'] = pd.qcut(rfm['frequency'], 5, ['1','2','3','4','5']) #higher the better\n",
    "rfm['m_quartile'] = pd.qcut(rfm['monetary'], 5, ['1','2','3','4','5']) #higher the better"
   ]
  },
  {
   "cell_type": "code",
   "execution_count": 20,
   "metadata": {},
   "outputs": [],
   "source": [
    "rfm['r_quartile'] = pd.to_numeric(rfm['r_quartile'])\n",
    "rfm['f_quartile'] = pd.to_numeric(rfm['f_quartile'])\n",
    "rfm['m_quartile'] = pd.to_numeric(rfm['m_quartile'])"
   ]
  },
  {
   "cell_type": "code",
   "execution_count": 21,
   "metadata": {},
   "outputs": [
    {
     "data": {
      "text/html": [
       "<div>\n",
       "<style scoped>\n",
       "    .dataframe tbody tr th:only-of-type {\n",
       "        vertical-align: middle;\n",
       "    }\n",
       "\n",
       "    .dataframe tbody tr th {\n",
       "        vertical-align: top;\n",
       "    }\n",
       "\n",
       "    .dataframe thead th {\n",
       "        text-align: right;\n",
       "    }\n",
       "</style>\n",
       "<table border=\"1\" class=\"dataframe\">\n",
       "  <thead>\n",
       "    <tr style=\"text-align: right;\">\n",
       "      <th></th>\n",
       "      <th>recency</th>\n",
       "      <th>frequency</th>\n",
       "      <th>monetary</th>\n",
       "      <th>r_quartile</th>\n",
       "      <th>f_quartile</th>\n",
       "      <th>m_quartile</th>\n",
       "    </tr>\n",
       "    <tr>\n",
       "      <th>Customer ID</th>\n",
       "      <th></th>\n",
       "      <th></th>\n",
       "      <th></th>\n",
       "      <th></th>\n",
       "      <th></th>\n",
       "      <th></th>\n",
       "    </tr>\n",
       "  </thead>\n",
       "  <tbody>\n",
       "    <tr>\n",
       "      <th>12346.0</th>\n",
       "      <td>164</td>\n",
       "      <td>33</td>\n",
       "      <td>372.86</td>\n",
       "      <td>2</td>\n",
       "      <td>3</td>\n",
       "      <td>2</td>\n",
       "    </tr>\n",
       "    <tr>\n",
       "      <th>12608.0</th>\n",
       "      <td>39</td>\n",
       "      <td>16</td>\n",
       "      <td>415.79</td>\n",
       "      <td>3</td>\n",
       "      <td>2</td>\n",
       "      <td>2</td>\n",
       "    </tr>\n",
       "    <tr>\n",
       "      <th>12745.0</th>\n",
       "      <td>121</td>\n",
       "      <td>22</td>\n",
       "      <td>723.85</td>\n",
       "      <td>2</td>\n",
       "      <td>2</td>\n",
       "      <td>3</td>\n",
       "    </tr>\n",
       "    <tr>\n",
       "      <th>12746.0</th>\n",
       "      <td>175</td>\n",
       "      <td>17</td>\n",
       "      <td>254.55</td>\n",
       "      <td>2</td>\n",
       "      <td>2</td>\n",
       "      <td>2</td>\n",
       "    </tr>\n",
       "    <tr>\n",
       "      <th>12747.0</th>\n",
       "      <td>4</td>\n",
       "      <td>154</td>\n",
       "      <td>5080.53</td>\n",
       "      <td>5</td>\n",
       "      <td>5</td>\n",
       "      <td>5</td>\n",
       "    </tr>\n",
       "  </tbody>\n",
       "</table>\n",
       "</div>"
      ],
      "text/plain": [
       "             recency  frequency  monetary  r_quartile  f_quartile  m_quartile\n",
       "Customer ID                                                                  \n",
       "12346.0          164         33    372.86           2           3           2\n",
       "12608.0           39         16    415.79           3           2           2\n",
       "12745.0          121         22    723.85           2           2           3\n",
       "12746.0          175         17    254.55           2           2           2\n",
       "12747.0            4        154   5080.53           5           5           5"
      ]
     },
     "execution_count": 21,
     "metadata": {},
     "output_type": "execute_result"
    }
   ],
   "source": [
    "rfm.head()"
   ]
  },
  {
   "cell_type": "markdown",
   "metadata": {},
   "source": [
    "Depending on the nature of the businesses, I would increase or decrease the relative importance of each RFM variable \n",
    "\n",
    "- Consumer durables(refrigerator, air conditioner): the monetary value per transaction is normally high but frequency and recency is low. \n",
    "- monetary > recency, frequency"
   ]
  },
  {
   "cell_type": "markdown",
   "metadata": {},
   "source": [
    "- Retail (fashion/cosmetics): a customer who searches and purchases products every month will have a higher recency and frequency score than monetary score. \n",
    "- recency, frequency > monetary"
   ]
  },
  {
   "cell_type": "markdown",
   "metadata": {},
   "source": [
    "# segmenting with K-means Cluster"
   ]
  },
  {
   "cell_type": "code",
   "execution_count": 22,
   "metadata": {},
   "outputs": [],
   "source": [
    "# X = rfm.iloc[:,:3].values\n",
    "X = rfm.iloc[:,3:6].values"
   ]
  },
  {
   "cell_type": "code",
   "execution_count": 23,
   "metadata": {},
   "outputs": [
    {
     "data": {
      "text/plain": [
       "array([[2, 3, 2],\n",
       "       [3, 2, 2],\n",
       "       [2, 2, 3],\n",
       "       ...,\n",
       "       [1, 1, 2],\n",
       "       [2, 4, 4],\n",
       "       [4, 4, 5]])"
      ]
     },
     "execution_count": 23,
     "metadata": {},
     "output_type": "execute_result"
    }
   ],
   "source": [
    "X"
   ]
  },
  {
   "cell_type": "code",
   "execution_count": 24,
   "metadata": {},
   "outputs": [],
   "source": [
    "x = X"
   ]
  },
  {
   "cell_type": "markdown",
   "metadata": {},
   "source": [
    "# Find the best number of clusters"
   ]
  },
  {
   "cell_type": "code",
   "execution_count": 25,
   "metadata": {},
   "outputs": [],
   "source": [
    "from sklearn.cluster import KMeans\n",
    "wcss = [] \n",
    "for i in range(1, 11): \n",
    "    kmeans = KMeans(n_clusters = i, init = 'k-means++', random_state = 42)\n",
    "    kmeans.fit(X) \n",
    "    wcss.append(kmeans.inertia_)"
   ]
  },
  {
   "cell_type": "code",
   "execution_count": 28,
   "metadata": {},
   "outputs": [
    {
     "data": {
      "image/png": "[encoded data removed]",
      "text/plain": [
       "<Figure size 432x288 with 1 Axes>"
      ]
     },
     "metadata": {
      "needs_background": "light"
     },
     "output_type": "display_data"
    }
   ],
   "source": [
    "import matplotlib.pyplot as plt\n",
    "plt.plot(range(1, 11), wcss)\n",
    "\n",
    "plt.title('Optimal Number of Clusters')\n",
    "plt.xlabel('Number of clusters')\n",
    "plt.ylabel('WCSS') #sum of squared distance between each point and the centroid in a cluster\n",
    "plt.savefig('elbow_graph.png', bbox_inches = 'tight',  dpi=100)\n",
    "plt.show()\n"
   ]
  },
  {
   "cell_type": "code",
   "execution_count": null,
   "metadata": {},
   "outputs": [],
   "source": []
  },
  {
   "cell_type": "code",
   "execution_count": 321,
   "metadata": {},
   "outputs": [
    {
     "name": "stderr",
     "output_type": "stream",
     "text": [
      "/Users/ebeen94/envs/tensorflow/lib/python3.7/site-packages/seaborn/_decorators.py:43: FutureWarning: Pass the following variable as a keyword arg: x. From version 0.12, the only valid positional argument will be `data`, and passing other arguments without an explicit keyword will result in an error or misinterpretation.\n",
      "  FutureWarning\n"
     ]
    },
    {
     "data": {
      "image/png": "[encoded data removed]",
      "text/plain": [
       "<Figure size 432x288 with 1 Axes>"
      ]
     },
     "metadata": {
      "needs_background": "light"
     },
     "output_type": "display_data"
    },
    {
     "data": {
      "text/plain": [
       "<Figure size 432x288 with 0 Axes>"
      ]
     },
     "metadata": {},
     "output_type": "display_data"
    }
   ],
   "source": [
    "import seaborn as sns\n",
    "# countplot to check the number of clusters and number of customers in each cluster\n",
    "sns.countplot(y_clusters)\n",
    "\n",
    "plt.title('Segment Count')\n",
    "plt.xlabel('segments number')\n",
    "plt.ylabel('count') #sum of squared distance between each point and the centroid in a cluster\n",
    "plt.show()\n",
    "# plt.savefig('cluster_barplot.png', bbox_inches = 'tight')"
   ]
  },
  {
   "cell_type": "code",
   "execution_count": 336,
   "metadata": {},
   "outputs": [],
   "source": [
    "#5 According to the Elbow graph we deterrmine the clusters number as #5. Applying k-means algorithm to the X dataset.\n",
    "kmeans = KMeans(n_clusters=6, init ='k-means++', max_iter=300, n_init=10,random_state=0 )\n",
    "# We are going to use the fit predict method that returns for each #observation which cluster it belongs to. The cluster to which #client belongs and it will return this cluster numbers into a #single vector that is  called y K-means\n",
    "y_clusters = kmeans.fit_predict(X)\n"
   ]
  },
  {
   "cell_type": "code",
   "execution_count": 374,
   "metadata": {},
   "outputs": [
    {
     "data": {
      "image/png": "[encoded data removed]",
      "text/plain": [
       "<Figure size 1080x1080 with 1 Axes>"
      ]
     },
     "metadata": {
      "needs_background": "light"
     },
     "output_type": "display_data"
    }
   ],
   "source": [
    "\n",
    "fig = plt.figure(figsize = (15,15))\n",
    "ax = fig.add_subplot(111, projection='3d')\n",
    "ax.scatter(x[y_clusters == 0,0],x[y_clusters == 0,1],x[y_clusters == 0,2], s = 40 , color = 'lightblue', label = \"VC\")\n",
    "ax.scatter(x[y_clusters == 1,0],x[y_clusters == 1,1],x[y_clusters == 1,2], s = 40 , color = 'orange', label = \"previous MVC\")\n",
    "ax.scatter(x[y_clusters == 2,0],x[y_clusters == 2,1],x[y_clusters == 2,2], s = 40 , color = 'lightgreen', label = \"hibernating\")\n",
    "ax.scatter(x[y_clusters == 3,0],x[y_clusters == 3,1],x[y_clusters == 3,2], s = 40 , color = '#D12B60', label = \"newcomers\")\n",
    "ax.scatter(x[y_clusters == 4,0],x[y_clusters == 4,1],x[y_clusters == 4,2], s = 40 , color = 'grey', label = \"MVC \")\n",
    "ax.scatter(x[y_clusters == 5,0],x[y_clusters == 5,1],x[y_clusters == 5,2], s = 40 , color = 'cyan', label = \"previous VC\")\n",
    "\n",
    "ax.set_xlabel('Recency-->')\n",
    "ax.set_ylabel('Frequency-->')\n",
    "ax.set_zlabel('Monetary-->')\n",
    "ax.legend()\n",
    "plt.show()\n",
    "\n",
    "# plt.savefig('./segment_3d')\n",
    "fig.savefig('segment_3d.png', dpi=100)"
   ]
  },
  {
   "cell_type": "code",
   "execution_count": 375,
   "metadata": {},
   "outputs": [],
   "source": [
    "rfm['segment'] = pd.Series(y_clusters, index=rfm.index)"
   ]
  },
  {
   "cell_type": "code",
   "execution_count": 376,
   "metadata": {},
   "outputs": [
    {
     "data": {
      "text/html": [
       "<div>\n",
       "<style scoped>\n",
       "    .dataframe tbody tr th:only-of-type {\n",
       "        vertical-align: middle;\n",
       "    }\n",
       "\n",
       "    .dataframe tbody tr th {\n",
       "        vertical-align: top;\n",
       "    }\n",
       "\n",
       "    .dataframe thead th {\n",
       "        text-align: right;\n",
       "    }\n",
       "</style>\n",
       "<table border=\"1\" class=\"dataframe\">\n",
       "  <thead>\n",
       "    <tr style=\"text-align: right;\">\n",
       "      <th></th>\n",
       "      <th>recency</th>\n",
       "      <th>frequency</th>\n",
       "      <th>monetary</th>\n",
       "      <th>r_quartile</th>\n",
       "      <th>f_quartile</th>\n",
       "      <th>m_quartile</th>\n",
       "      <th>segment</th>\n",
       "    </tr>\n",
       "    <tr>\n",
       "      <th>Customer ID</th>\n",
       "      <th></th>\n",
       "      <th></th>\n",
       "      <th></th>\n",
       "      <th></th>\n",
       "      <th></th>\n",
       "      <th></th>\n",
       "      <th></th>\n",
       "    </tr>\n",
       "  </thead>\n",
       "  <tbody>\n",
       "    <tr>\n",
       "      <th>12346.0</th>\n",
       "      <td>164</td>\n",
       "      <td>33</td>\n",
       "      <td>372.86</td>\n",
       "      <td>2</td>\n",
       "      <td>3</td>\n",
       "      <td>2</td>\n",
       "      <td>5</td>\n",
       "    </tr>\n",
       "    <tr>\n",
       "      <th>12608.0</th>\n",
       "      <td>39</td>\n",
       "      <td>16</td>\n",
       "      <td>415.79</td>\n",
       "      <td>3</td>\n",
       "      <td>2</td>\n",
       "      <td>2</td>\n",
       "      <td>3</td>\n",
       "    </tr>\n",
       "    <tr>\n",
       "      <th>12745.0</th>\n",
       "      <td>121</td>\n",
       "      <td>22</td>\n",
       "      <td>723.85</td>\n",
       "      <td>2</td>\n",
       "      <td>2</td>\n",
       "      <td>3</td>\n",
       "      <td>5</td>\n",
       "    </tr>\n",
       "    <tr>\n",
       "      <th>12746.0</th>\n",
       "      <td>175</td>\n",
       "      <td>17</td>\n",
       "      <td>254.55</td>\n",
       "      <td>2</td>\n",
       "      <td>2</td>\n",
       "      <td>2</td>\n",
       "      <td>2</td>\n",
       "    </tr>\n",
       "    <tr>\n",
       "      <th>12747.0</th>\n",
       "      <td>4</td>\n",
       "      <td>154</td>\n",
       "      <td>5080.53</td>\n",
       "      <td>5</td>\n",
       "      <td>5</td>\n",
       "      <td>5</td>\n",
       "      <td>4</td>\n",
       "    </tr>\n",
       "    <tr>\n",
       "      <th>...</th>\n",
       "      <td>...</td>\n",
       "      <td>...</td>\n",
       "      <td>...</td>\n",
       "      <td>...</td>\n",
       "      <td>...</td>\n",
       "      <td>...</td>\n",
       "      <td>...</td>\n",
       "    </tr>\n",
       "    <tr>\n",
       "      <th>18283.0</th>\n",
       "      <td>17</td>\n",
       "      <td>230</td>\n",
       "      <td>641.77</td>\n",
       "      <td>4</td>\n",
       "      <td>5</td>\n",
       "      <td>3</td>\n",
       "      <td>4</td>\n",
       "    </tr>\n",
       "    <tr>\n",
       "      <th>18284.0</th>\n",
       "      <td>66</td>\n",
       "      <td>28</td>\n",
       "      <td>461.68</td>\n",
       "      <td>3</td>\n",
       "      <td>2</td>\n",
       "      <td>2</td>\n",
       "      <td>3</td>\n",
       "    </tr>\n",
       "    <tr>\n",
       "      <th>18285.0</th>\n",
       "      <td>295</td>\n",
       "      <td>12</td>\n",
       "      <td>427.00</td>\n",
       "      <td>1</td>\n",
       "      <td>1</td>\n",
       "      <td>2</td>\n",
       "      <td>2</td>\n",
       "    </tr>\n",
       "    <tr>\n",
       "      <th>18286.0</th>\n",
       "      <td>111</td>\n",
       "      <td>67</td>\n",
       "      <td>1296.43</td>\n",
       "      <td>2</td>\n",
       "      <td>4</td>\n",
       "      <td>4</td>\n",
       "      <td>1</td>\n",
       "    </tr>\n",
       "    <tr>\n",
       "      <th>18287.0</th>\n",
       "      <td>17</td>\n",
       "      <td>85</td>\n",
       "      <td>2345.71</td>\n",
       "      <td>4</td>\n",
       "      <td>4</td>\n",
       "      <td>5</td>\n",
       "      <td>4</td>\n",
       "    </tr>\n",
       "  </tbody>\n",
       "</table>\n",
       "<p>3971 rows × 7 columns</p>\n",
       "</div>"
      ],
      "text/plain": [
       "             recency  frequency  monetary  r_quartile  f_quartile  m_quartile  \\\n",
       "Customer ID                                                                     \n",
       "12346.0          164         33    372.86           2           3           2   \n",
       "12608.0           39         16    415.79           3           2           2   \n",
       "12745.0          121         22    723.85           2           2           3   \n",
       "12746.0          175         17    254.55           2           2           2   \n",
       "12747.0            4        154   5080.53           5           5           5   \n",
       "...              ...        ...       ...         ...         ...         ...   \n",
       "18283.0           17        230    641.77           4           5           3   \n",
       "18284.0           66         28    461.68           3           2           2   \n",
       "18285.0          295         12    427.00           1           1           2   \n",
       "18286.0          111         67   1296.43           2           4           4   \n",
       "18287.0           17         85   2345.71           4           4           5   \n",
       "\n",
       "             segment  \n",
       "Customer ID           \n",
       "12346.0            5  \n",
       "12608.0            3  \n",
       "12745.0            5  \n",
       "12746.0            2  \n",
       "12747.0            4  \n",
       "...              ...  \n",
       "18283.0            4  \n",
       "18284.0            3  \n",
       "18285.0            2  \n",
       "18286.0            1  \n",
       "18287.0            4  \n",
       "\n",
       "[3971 rows x 7 columns]"
      ]
     },
     "execution_count": 376,
     "metadata": {},
     "output_type": "execute_result"
    }
   ],
   "source": [
    "rfm"
   ]
  },
  {
   "cell_type": "code",
   "execution_count": 377,
   "metadata": {},
   "outputs": [
    {
     "data": {
      "text/plain": [
       "array([5, 3, 2, 4, 0, 1], dtype=int32)"
      ]
     },
     "execution_count": 377,
     "metadata": {},
     "output_type": "execute_result"
    }
   ],
   "source": [
    "rfm['segment'].unique()\n"
   ]
  },
  {
   "cell_type": "code",
   "execution_count": 378,
   "metadata": {},
   "outputs": [],
   "source": [
    "rfm['segment'] = rfm['segment'].map({0:'VC', 1: 'previous MVC', 2: 'hibernating', 3:'newcomers',4:'MVC',5:'previous VC' })"
   ]
  },
  {
   "cell_type": "code",
   "execution_count": 379,
   "metadata": {},
   "outputs": [
    {
     "data": {
      "text/plain": [
       "recency        301\n",
       "frequency      471\n",
       "monetary      3936\n",
       "r_quartile       5\n",
       "f_quartile       5\n",
       "m_quartile       5\n",
       "segment          6\n",
       "dtype: int64"
      ]
     },
     "execution_count": 379,
     "metadata": {},
     "output_type": "execute_result"
    }
   ],
   "source": [
    "rfm.nunique()"
   ]
  },
  {
   "cell_type": "code",
   "execution_count": 380,
   "metadata": {},
   "outputs": [
    {
     "data": {
      "image/png": "[encoded data removed]",
      "text/plain": [
       "<Figure size 432x288 with 1 Axes>"
      ]
     },
     "metadata": {
      "needs_background": "light"
     },
     "output_type": "display_data"
    },
    {
     "data": {
      "text/plain": [
       "<Figure size 432x288 with 0 Axes>"
      ]
     },
     "metadata": {},
     "output_type": "display_data"
    }
   ],
   "source": [
    "rfm['segment'].value_counts().plot(kind='bar', color=['grey', 'lightgreen', 'cyan', 'orange', '#D12B60', 'lightblue'])\n",
    "\n",
    "plt.title('Count of each Segments')\n",
    "plt.xlabel('segment')\n",
    "plt.ylabel('count') \n",
    "plt.show()\n",
    "plt.savefig('segment_barplot.png', bbox_inches = 'tight')"
   ]
  },
  {
   "cell_type": "code",
   "execution_count": 381,
   "metadata": {},
   "outputs": [
    {
     "data": {
      "text/plain": [
       "([<matplotlib.patches.Wedge at 0x7fa4c60160b8>,\n",
       "  <matplotlib.patches.Wedge at 0x7fa4c60167f0>,\n",
       "  <matplotlib.patches.Wedge at 0x7fa4c6016eb8>,\n",
       "  <matplotlib.patches.Wedge at 0x7fa4c71015f8>,\n",
       "  <matplotlib.patches.Wedge at 0x7fa4c7101cf8>,\n",
       "  <matplotlib.patches.Wedge at 0x7fa4c70e0470>],\n",
       " [Text(0.8276092612897951, 0.7246122484662814, 'VC'),\n",
       "  Text(-0.566247634068483, 0.9430607705295802, 'previous MVC'),\n",
       "  Text(-1.0904134145116415, -0.1449088867290863, 'hibernating'),\n",
       "  Text(-0.5185603436791925, -0.970100597857417, 'newcomers'),\n",
       "  Text(0.4041116085145383, -1.0230805480820133, 'MVC'),\n",
       "  Text(1.0160592249271032, -0.42145421037229464, 'previous VC')],\n",
       " [Text(0.45142323343079727, 0.3952430446179716, '22.9%'),\n",
       "  Text(-0.3088623458555362, 0.5143967839252255, '21.4%'),\n",
       "  Text(-0.5947709533699862, -0.07904121094313799, '15.6%'),\n",
       "  Text(-0.28285109655228674, -0.5291457806495001, '14.6%'),\n",
       "  Text(0.2204245137352027, -0.5580439353174617, '13.0%'),\n",
       "  Text(0.5542141226875108, -0.22988411474852433, '12.5%')])"
      ]
     },
     "execution_count": 381,
     "metadata": {},
     "output_type": "execute_result"
    },
    {
     "data": {
      "image/png": "[encoded data removed]",
      "text/plain": [
       "<Figure size 432x288 with 1 Axes>"
      ]
     },
     "metadata": {},
     "output_type": "display_data"
    }
   ],
   "source": [
    "# labels = ['VC', 'previous MVC', 'hibernating', 'newcomers', 'MVC','previous VC']\n",
    "# #Create pie chart with Matplotlib\n",
    "# # colors=['grey', 'green', 'black', 'orange', '#D12B60', 'blue'],\n",
    "# plt.pie(rfm['segment'].value_counts(),labels, autopct='%1.1f%%')\n",
    "# plt.show()\n",
    "\n",
    "labels = ['VC', 'previous MVC', 'hibernating', 'newcomers', 'MVC','previous VC']\n",
    "colours = {'VC': 'lightblue',\n",
    "           'previous MVC': 'orange',\n",
    "           'hibernating': 'lightgreen',\n",
    "           'newcomers': '#D12B60',\n",
    "           'MVC': 'grey',\n",
    "           'previous VC': 'cyan'}\n",
    "\n",
    "plt.pie(rfm['segment'].value_counts(),\n",
    "          labels=labels,\n",
    "          colors=[colours[key] for key in labels],\n",
    "          autopct='%1.1f%%')\n",
    "\n"
   ]
  },
  {
   "cell_type": "code",
   "execution_count": 382,
   "metadata": {},
   "outputs": [
    {
     "data": {
      "text/plain": [
       "MVC             909\n",
       "hibernating     851\n",
       "previous VC     618\n",
       "previous MVC    580\n",
       "newcomers       516\n",
       "VC              497\n",
       "Name: segment, dtype: int64"
      ]
     },
     "execution_count": 382,
     "metadata": {},
     "output_type": "execute_result"
    }
   ],
   "source": [
    "rfm['segment'].value_counts()"
   ]
  },
  {
   "cell_type": "code",
   "execution_count": null,
   "metadata": {},
   "outputs": [],
   "source": []
  },
  {
   "cell_type": "code",
   "execution_count": 140,
   "metadata": {},
   "outputs": [
    {
     "name": "stdout",
     "output_type": "stream",
     "text": [
      "<class 'pandas.core.frame.DataFrame'>\n",
      "RangeIndex: 3971 entries, 0 to 3970\n",
      "Data columns (total 10 columns):\n",
      " #   Column       Non-Null Count  Dtype  \n",
      "---  ------       --------------  -----  \n",
      " 0   level_0      3971 non-null   int64  \n",
      " 1   index        3971 non-null   int64  \n",
      " 2   Customer ID  3971 non-null   float64\n",
      " 3   recency      3971 non-null   int64  \n",
      " 4   frequency    3971 non-null   int64  \n",
      " 5   monetary     3971 non-null   float64\n",
      " 6   r_quartile   3971 non-null   int64  \n",
      " 7   f_quartile   3971 non-null   int64  \n",
      " 8   m_quartile   3971 non-null   int64  \n",
      " 9   segment      3971 non-null   object \n",
      "dtypes: float64(2), int64(7), object(1)\n",
      "memory usage: 310.4+ KB\n"
     ]
    }
   ],
   "source": [
    "rfm.info()"
   ]
  },
  {
   "cell_type": "code",
   "execution_count": 141,
   "metadata": {},
   "outputs": [],
   "source": [
    "rfm['r_quartile'] = pd.to_numeric(rfm['r_quartile'])\n",
    "rfm['f_quartile'] = pd.to_numeric(rfm['f_quartile'])\n",
    "rfm['m_quartile'] = pd.to_numeric(rfm['m_quartile'])"
   ]
  },
  {
   "cell_type": "code",
   "execution_count": 142,
   "metadata": {},
   "outputs": [
    {
     "name": "stderr",
     "output_type": "stream",
     "text": [
      "/Users/ebeen94/envs/tensorflow/lib/python3.7/site-packages/ipykernel_launcher.py:1: FutureWarning: Indexing with multiple keys (implicitly converted to a tuple of keys) will be deprecated, use a list instead.\n",
      "  \"\"\"Entry point for launching an IPython kernel.\n"
     ]
    },
    {
     "data": {
      "text/html": [
       "<div>\n",
       "<style scoped>\n",
       "    .dataframe tbody tr th:only-of-type {\n",
       "        vertical-align: middle;\n",
       "    }\n",
       "\n",
       "    .dataframe tbody tr th {\n",
       "        vertical-align: top;\n",
       "    }\n",
       "\n",
       "    .dataframe thead th {\n",
       "        text-align: right;\n",
       "    }\n",
       "</style>\n",
       "<table border=\"1\" class=\"dataframe\">\n",
       "  <thead>\n",
       "    <tr style=\"text-align: right;\">\n",
       "      <th></th>\n",
       "      <th>recency</th>\n",
       "      <th>frequency</th>\n",
       "      <th>monetary</th>\n",
       "    </tr>\n",
       "    <tr>\n",
       "      <th>segment</th>\n",
       "      <th></th>\n",
       "      <th></th>\n",
       "      <th></th>\n",
       "    </tr>\n",
       "  </thead>\n",
       "  <tbody>\n",
       "    <tr>\n",
       "      <th>MVC</th>\n",
       "      <td>12.887789</td>\n",
       "      <td>245.878988</td>\n",
       "      <td>5280.464378</td>\n",
       "    </tr>\n",
       "    <tr>\n",
       "      <th>VC</th>\n",
       "      <td>17.008048</td>\n",
       "      <td>49.038229</td>\n",
       "      <td>761.491187</td>\n",
       "    </tr>\n",
       "    <tr>\n",
       "      <th>hibernating</th>\n",
       "      <td>214.990599</td>\n",
       "      <td>15.119859</td>\n",
       "      <td>227.361610</td>\n",
       "    </tr>\n",
       "    <tr>\n",
       "      <th>newcomers</th>\n",
       "      <td>37.804264</td>\n",
       "      <td>17.232558</td>\n",
       "      <td>275.548198</td>\n",
       "    </tr>\n",
       "    <tr>\n",
       "      <th>previous VC</th>\n",
       "      <td>113.151085</td>\n",
       "      <td>84.570952</td>\n",
       "      <td>1586.548506</td>\n",
       "    </tr>\n",
       "  </tbody>\n",
       "</table>\n",
       "</div>"
      ],
      "text/plain": [
       "                recency   frequency     monetary\n",
       "segment                                         \n",
       "MVC           12.887789  245.878988  5280.464378\n",
       "VC            17.008048   49.038229   761.491187\n",
       "hibernating  214.990599   15.119859   227.361610\n",
       "newcomers     37.804264   17.232558   275.548198\n",
       "previous VC  113.151085   84.570952  1586.548506"
      ]
     },
     "execution_count": 142,
     "metadata": {},
     "output_type": "execute_result"
    }
   ],
   "source": [
    "rfm.groupby('segment')['recency','frequency', 'monetary'].mean()"
   ]
  },
  {
   "cell_type": "code",
   "execution_count": 143,
   "metadata": {},
   "outputs": [
    {
     "name": "stderr",
     "output_type": "stream",
     "text": [
      "/Users/ebeen94/envs/tensorflow/lib/python3.7/site-packages/ipykernel_launcher.py:1: FutureWarning: Indexing with multiple keys (implicitly converted to a tuple of keys) will be deprecated, use a list instead.\n",
      "  \"\"\"Entry point for launching an IPython kernel.\n"
     ]
    },
    {
     "data": {
      "text/html": [
       "<div>\n",
       "<style scoped>\n",
       "    .dataframe tbody tr th:only-of-type {\n",
       "        vertical-align: middle;\n",
       "    }\n",
       "\n",
       "    .dataframe tbody tr th {\n",
       "        vertical-align: top;\n",
       "    }\n",
       "\n",
       "    .dataframe thead th {\n",
       "        text-align: right;\n",
       "    }\n",
       "</style>\n",
       "<table border=\"1\" class=\"dataframe\">\n",
       "  <thead>\n",
       "    <tr style=\"text-align: right;\">\n",
       "      <th></th>\n",
       "      <th>r_quartile</th>\n",
       "      <th>f_quartile</th>\n",
       "      <th>m_quartile</th>\n",
       "    </tr>\n",
       "    <tr>\n",
       "      <th>segment</th>\n",
       "      <th></th>\n",
       "      <th></th>\n",
       "      <th></th>\n",
       "    </tr>\n",
       "  </thead>\n",
       "  <tbody>\n",
       "    <tr>\n",
       "      <th>MVC</th>\n",
       "      <td>4.607261</td>\n",
       "      <td>4.618262</td>\n",
       "      <td>4.555556</td>\n",
       "    </tr>\n",
       "    <tr>\n",
       "      <th>VC</th>\n",
       "      <td>4.448692</td>\n",
       "      <td>2.913481</td>\n",
       "      <td>2.893360</td>\n",
       "    </tr>\n",
       "    <tr>\n",
       "      <th>hibernating</th>\n",
       "      <td>1.361927</td>\n",
       "      <td>1.524089</td>\n",
       "      <td>1.400705</td>\n",
       "    </tr>\n",
       "    <tr>\n",
       "      <th>newcomers</th>\n",
       "      <td>3.544574</td>\n",
       "      <td>1.608527</td>\n",
       "      <td>1.567829</td>\n",
       "    </tr>\n",
       "    <tr>\n",
       "      <th>previous VC</th>\n",
       "      <td>2.186978</td>\n",
       "      <td>3.439065</td>\n",
       "      <td>3.615192</td>\n",
       "    </tr>\n",
       "  </tbody>\n",
       "</table>\n",
       "</div>"
      ],
      "text/plain": [
       "             r_quartile  f_quartile  m_quartile\n",
       "segment                                        \n",
       "MVC            4.607261    4.618262    4.555556\n",
       "VC             4.448692    2.913481    2.893360\n",
       "hibernating    1.361927    1.524089    1.400705\n",
       "newcomers      3.544574    1.608527    1.567829\n",
       "previous VC    2.186978    3.439065    3.615192"
      ]
     },
     "execution_count": 143,
     "metadata": {},
     "output_type": "execute_result"
    }
   ],
   "source": [
    "rfm.groupby('segment')['r_quartile','f_quartile', 'm_quartile'].mean()"
   ]
  },
  {
   "cell_type": "code",
   "execution_count": 144,
   "metadata": {},
   "outputs": [],
   "source": [
    "import pandas as pd\n",
    "equiv = {0:'VC', 1: 'previous VC', 2: 'hibernating', 3:'newcomers',3:'MVC',3:'make them spend',3:'previous VC' }\n",
    "equiv = {7001:1, 8001:2, 9001:3}\n",
    "df = pd.DataFrame({\"A\": [7001, 8001, 9001]})\n",
    "df[\"B\"] = df[\"A\"].map(equiv)"
   ]
  },
  {
   "cell_type": "code",
   "execution_count": 146,
   "metadata": {},
   "outputs": [
    {
     "data": {
      "text/html": [
       "<div>\n",
       "<style scoped>\n",
       "    .dataframe tbody tr th:only-of-type {\n",
       "        vertical-align: middle;\n",
       "    }\n",
       "\n",
       "    .dataframe tbody tr th {\n",
       "        vertical-align: top;\n",
       "    }\n",
       "\n",
       "    .dataframe thead th {\n",
       "        text-align: right;\n",
       "    }\n",
       "</style>\n",
       "<table border=\"1\" class=\"dataframe\">\n",
       "  <thead>\n",
       "    <tr style=\"text-align: right;\">\n",
       "      <th></th>\n",
       "      <th>level_0</th>\n",
       "      <th>index</th>\n",
       "      <th>Customer ID</th>\n",
       "      <th>recency</th>\n",
       "      <th>frequency</th>\n",
       "      <th>monetary</th>\n",
       "      <th>r_quartile</th>\n",
       "      <th>f_quartile</th>\n",
       "      <th>m_quartile</th>\n",
       "      <th>segment</th>\n",
       "    </tr>\n",
       "  </thead>\n",
       "  <tbody>\n",
       "    <tr>\n",
       "      <th>0</th>\n",
       "      <td>0</td>\n",
       "      <td>0</td>\n",
       "      <td>12346.0</td>\n",
       "      <td>164</td>\n",
       "      <td>33</td>\n",
       "      <td>372.86</td>\n",
       "      <td>2</td>\n",
       "      <td>3</td>\n",
       "      <td>2</td>\n",
       "      <td>previous VC</td>\n",
       "    </tr>\n",
       "    <tr>\n",
       "      <th>1</th>\n",
       "      <td>1</td>\n",
       "      <td>1</td>\n",
       "      <td>12608.0</td>\n",
       "      <td>39</td>\n",
       "      <td>16</td>\n",
       "      <td>415.79</td>\n",
       "      <td>3</td>\n",
       "      <td>2</td>\n",
       "      <td>2</td>\n",
       "      <td>newcomers</td>\n",
       "    </tr>\n",
       "    <tr>\n",
       "      <th>2</th>\n",
       "      <td>2</td>\n",
       "      <td>2</td>\n",
       "      <td>12745.0</td>\n",
       "      <td>121</td>\n",
       "      <td>22</td>\n",
       "      <td>723.85</td>\n",
       "      <td>2</td>\n",
       "      <td>2</td>\n",
       "      <td>3</td>\n",
       "      <td>previous VC</td>\n",
       "    </tr>\n",
       "    <tr>\n",
       "      <th>3</th>\n",
       "      <td>3</td>\n",
       "      <td>3</td>\n",
       "      <td>12746.0</td>\n",
       "      <td>175</td>\n",
       "      <td>17</td>\n",
       "      <td>254.55</td>\n",
       "      <td>2</td>\n",
       "      <td>2</td>\n",
       "      <td>2</td>\n",
       "      <td>hibernating</td>\n",
       "    </tr>\n",
       "    <tr>\n",
       "      <th>4</th>\n",
       "      <td>4</td>\n",
       "      <td>4</td>\n",
       "      <td>12747.0</td>\n",
       "      <td>4</td>\n",
       "      <td>154</td>\n",
       "      <td>5080.53</td>\n",
       "      <td>5</td>\n",
       "      <td>5</td>\n",
       "      <td>5</td>\n",
       "      <td>MVC</td>\n",
       "    </tr>\n",
       "    <tr>\n",
       "      <th>...</th>\n",
       "      <td>...</td>\n",
       "      <td>...</td>\n",
       "      <td>...</td>\n",
       "      <td>...</td>\n",
       "      <td>...</td>\n",
       "      <td>...</td>\n",
       "      <td>...</td>\n",
       "      <td>...</td>\n",
       "      <td>...</td>\n",
       "      <td>...</td>\n",
       "    </tr>\n",
       "    <tr>\n",
       "      <th>3966</th>\n",
       "      <td>3966</td>\n",
       "      <td>3966</td>\n",
       "      <td>18283.0</td>\n",
       "      <td>17</td>\n",
       "      <td>230</td>\n",
       "      <td>641.77</td>\n",
       "      <td>4</td>\n",
       "      <td>5</td>\n",
       "      <td>3</td>\n",
       "      <td>MVC</td>\n",
       "    </tr>\n",
       "    <tr>\n",
       "      <th>3967</th>\n",
       "      <td>3967</td>\n",
       "      <td>3967</td>\n",
       "      <td>18284.0</td>\n",
       "      <td>66</td>\n",
       "      <td>28</td>\n",
       "      <td>461.68</td>\n",
       "      <td>3</td>\n",
       "      <td>2</td>\n",
       "      <td>2</td>\n",
       "      <td>newcomers</td>\n",
       "    </tr>\n",
       "    <tr>\n",
       "      <th>3968</th>\n",
       "      <td>3968</td>\n",
       "      <td>3968</td>\n",
       "      <td>18285.0</td>\n",
       "      <td>295</td>\n",
       "      <td>12</td>\n",
       "      <td>427.00</td>\n",
       "      <td>1</td>\n",
       "      <td>1</td>\n",
       "      <td>2</td>\n",
       "      <td>hibernating</td>\n",
       "    </tr>\n",
       "    <tr>\n",
       "      <th>3969</th>\n",
       "      <td>3969</td>\n",
       "      <td>3969</td>\n",
       "      <td>18286.0</td>\n",
       "      <td>111</td>\n",
       "      <td>67</td>\n",
       "      <td>1296.43</td>\n",
       "      <td>2</td>\n",
       "      <td>4</td>\n",
       "      <td>4</td>\n",
       "      <td>previous VC</td>\n",
       "    </tr>\n",
       "    <tr>\n",
       "      <th>3970</th>\n",
       "      <td>3970</td>\n",
       "      <td>3970</td>\n",
       "      <td>18287.0</td>\n",
       "      <td>17</td>\n",
       "      <td>85</td>\n",
       "      <td>2345.71</td>\n",
       "      <td>4</td>\n",
       "      <td>4</td>\n",
       "      <td>5</td>\n",
       "      <td>MVC</td>\n",
       "    </tr>\n",
       "  </tbody>\n",
       "</table>\n",
       "<p>3971 rows × 10 columns</p>\n",
       "</div>"
      ],
      "text/plain": [
       "      level_0  index  Customer ID  recency  frequency  monetary  r_quartile  \\\n",
       "0           0      0      12346.0      164         33    372.86           2   \n",
       "1           1      1      12608.0       39         16    415.79           3   \n",
       "2           2      2      12745.0      121         22    723.85           2   \n",
       "3           3      3      12746.0      175         17    254.55           2   \n",
       "4           4      4      12747.0        4        154   5080.53           5   \n",
       "...       ...    ...          ...      ...        ...       ...         ...   \n",
       "3966     3966   3966      18283.0       17        230    641.77           4   \n",
       "3967     3967   3967      18284.0       66         28    461.68           3   \n",
       "3968     3968   3968      18285.0      295         12    427.00           1   \n",
       "3969     3969   3969      18286.0      111         67   1296.43           2   \n",
       "3970     3970   3970      18287.0       17         85   2345.71           4   \n",
       "\n",
       "      f_quartile  m_quartile      segment  \n",
       "0              3           2  previous VC  \n",
       "1              2           2    newcomers  \n",
       "2              2           3  previous VC  \n",
       "3              2           2  hibernating  \n",
       "4              5           5          MVC  \n",
       "...          ...         ...          ...  \n",
       "3966           5           3          MVC  \n",
       "3967           2           2    newcomers  \n",
       "3968           1           2  hibernating  \n",
       "3969           4           4  previous VC  \n",
       "3970           4           5          MVC  \n",
       "\n",
       "[3971 rows x 10 columns]"
      ]
     },
     "execution_count": 146,
     "metadata": {},
     "output_type": "execute_result"
    }
   ],
   "source": [
    "# rfm = rfm.reset_index(level=0)\n",
    "rfm"
   ]
  },
  {
   "cell_type": "code",
   "execution_count": 147,
   "metadata": {},
   "outputs": [],
   "source": [
    "new_df = pd.merge(UK_data, rfm, how='left', on='Customer ID')"
   ]
  },
  {
   "cell_type": "code",
   "execution_count": 148,
   "metadata": {},
   "outputs": [
    {
     "data": {
      "text/html": [
       "<div>\n",
       "<style scoped>\n",
       "    .dataframe tbody tr th:only-of-type {\n",
       "        vertical-align: middle;\n",
       "    }\n",
       "\n",
       "    .dataframe tbody tr th {\n",
       "        vertical-align: top;\n",
       "    }\n",
       "\n",
       "    .dataframe thead th {\n",
       "        text-align: right;\n",
       "    }\n",
       "</style>\n",
       "<table border=\"1\" class=\"dataframe\">\n",
       "  <thead>\n",
       "    <tr style=\"text-align: right;\">\n",
       "      <th></th>\n",
       "      <th>Invoice</th>\n",
       "      <th>StockCode</th>\n",
       "      <th>Description</th>\n",
       "      <th>Quantity</th>\n",
       "      <th>InvoiceDate</th>\n",
       "      <th>Price</th>\n",
       "      <th>Customer ID</th>\n",
       "      <th>Country</th>\n",
       "      <th>InvoiceTime</th>\n",
       "      <th>InvoiceYear</th>\n",
       "      <th>...</th>\n",
       "      <th>TotalPrice</th>\n",
       "      <th>level_0</th>\n",
       "      <th>index</th>\n",
       "      <th>recency</th>\n",
       "      <th>frequency</th>\n",
       "      <th>monetary</th>\n",
       "      <th>r_quartile</th>\n",
       "      <th>f_quartile</th>\n",
       "      <th>m_quartile</th>\n",
       "      <th>segment</th>\n",
       "    </tr>\n",
       "  </thead>\n",
       "  <tbody>\n",
       "    <tr>\n",
       "      <th>0</th>\n",
       "      <td>489434</td>\n",
       "      <td>85048</td>\n",
       "      <td>15CM CHRISTMAS GLASS BALL 20 LIGHTS</td>\n",
       "      <td>12</td>\n",
       "      <td>2009-12-01 07:45:00</td>\n",
       "      <td>6.95</td>\n",
       "      <td>13085.0</td>\n",
       "      <td>United Kingdom</td>\n",
       "      <td>07:45:00</td>\n",
       "      <td>2009</td>\n",
       "      <td>...</td>\n",
       "      <td>83.40</td>\n",
       "      <td>201.0</td>\n",
       "      <td>201.0</td>\n",
       "      <td>314.0</td>\n",
       "      <td>62.0</td>\n",
       "      <td>2017.20</td>\n",
       "      <td>1.0</td>\n",
       "      <td>4.0</td>\n",
       "      <td>4.0</td>\n",
       "      <td>previous VC</td>\n",
       "    </tr>\n",
       "    <tr>\n",
       "      <th>1</th>\n",
       "      <td>489434</td>\n",
       "      <td>79323P</td>\n",
       "      <td>PINK CHERRY LIGHTS</td>\n",
       "      <td>12</td>\n",
       "      <td>2009-12-01 07:45:00</td>\n",
       "      <td>6.75</td>\n",
       "      <td>13085.0</td>\n",
       "      <td>United Kingdom</td>\n",
       "      <td>07:45:00</td>\n",
       "      <td>2009</td>\n",
       "      <td>...</td>\n",
       "      <td>81.00</td>\n",
       "      <td>201.0</td>\n",
       "      <td>201.0</td>\n",
       "      <td>314.0</td>\n",
       "      <td>62.0</td>\n",
       "      <td>2017.20</td>\n",
       "      <td>1.0</td>\n",
       "      <td>4.0</td>\n",
       "      <td>4.0</td>\n",
       "      <td>previous VC</td>\n",
       "    </tr>\n",
       "    <tr>\n",
       "      <th>2</th>\n",
       "      <td>489434</td>\n",
       "      <td>79323W</td>\n",
       "      <td>WHITE CHERRY LIGHTS</td>\n",
       "      <td>12</td>\n",
       "      <td>2009-12-01 07:45:00</td>\n",
       "      <td>6.75</td>\n",
       "      <td>13085.0</td>\n",
       "      <td>United Kingdom</td>\n",
       "      <td>07:45:00</td>\n",
       "      <td>2009</td>\n",
       "      <td>...</td>\n",
       "      <td>81.00</td>\n",
       "      <td>201.0</td>\n",
       "      <td>201.0</td>\n",
       "      <td>314.0</td>\n",
       "      <td>62.0</td>\n",
       "      <td>2017.20</td>\n",
       "      <td>1.0</td>\n",
       "      <td>4.0</td>\n",
       "      <td>4.0</td>\n",
       "      <td>previous VC</td>\n",
       "    </tr>\n",
       "    <tr>\n",
       "      <th>3</th>\n",
       "      <td>489434</td>\n",
       "      <td>22041</td>\n",
       "      <td>RECORD FRAME 7\" SINGLE SIZE</td>\n",
       "      <td>48</td>\n",
       "      <td>2009-12-01 07:45:00</td>\n",
       "      <td>2.10</td>\n",
       "      <td>13085.0</td>\n",
       "      <td>United Kingdom</td>\n",
       "      <td>07:45:00</td>\n",
       "      <td>2009</td>\n",
       "      <td>...</td>\n",
       "      <td>100.80</td>\n",
       "      <td>201.0</td>\n",
       "      <td>201.0</td>\n",
       "      <td>314.0</td>\n",
       "      <td>62.0</td>\n",
       "      <td>2017.20</td>\n",
       "      <td>1.0</td>\n",
       "      <td>4.0</td>\n",
       "      <td>4.0</td>\n",
       "      <td>previous VC</td>\n",
       "    </tr>\n",
       "    <tr>\n",
       "      <th>4</th>\n",
       "      <td>489434</td>\n",
       "      <td>21232</td>\n",
       "      <td>STRAWBERRY CERAMIC TRINKET BOX</td>\n",
       "      <td>24</td>\n",
       "      <td>2009-12-01 07:45:00</td>\n",
       "      <td>1.25</td>\n",
       "      <td>13085.0</td>\n",
       "      <td>United Kingdom</td>\n",
       "      <td>07:45:00</td>\n",
       "      <td>2009</td>\n",
       "      <td>...</td>\n",
       "      <td>30.00</td>\n",
       "      <td>201.0</td>\n",
       "      <td>201.0</td>\n",
       "      <td>314.0</td>\n",
       "      <td>62.0</td>\n",
       "      <td>2017.20</td>\n",
       "      <td>1.0</td>\n",
       "      <td>4.0</td>\n",
       "      <td>4.0</td>\n",
       "      <td>previous VC</td>\n",
       "    </tr>\n",
       "    <tr>\n",
       "      <th>...</th>\n",
       "      <td>...</td>\n",
       "      <td>...</td>\n",
       "      <td>...</td>\n",
       "      <td>...</td>\n",
       "      <td>...</td>\n",
       "      <td>...</td>\n",
       "      <td>...</td>\n",
       "      <td>...</td>\n",
       "      <td>...</td>\n",
       "      <td>...</td>\n",
       "      <td>...</td>\n",
       "      <td>...</td>\n",
       "      <td>...</td>\n",
       "      <td>...</td>\n",
       "      <td>...</td>\n",
       "      <td>...</td>\n",
       "      <td>...</td>\n",
       "      <td>...</td>\n",
       "      <td>...</td>\n",
       "      <td>...</td>\n",
       "      <td>...</td>\n",
       "    </tr>\n",
       "    <tr>\n",
       "      <th>474933</th>\n",
       "      <td>538171</td>\n",
       "      <td>22271</td>\n",
       "      <td>FELTCRAFT DOLL ROSIE</td>\n",
       "      <td>2</td>\n",
       "      <td>2010-12-09 20:01:00</td>\n",
       "      <td>2.95</td>\n",
       "      <td>17530.0</td>\n",
       "      <td>United Kingdom</td>\n",
       "      <td>20:01:00</td>\n",
       "      <td>2010</td>\n",
       "      <td>...</td>\n",
       "      <td>5.90</td>\n",
       "      <td>3418.0</td>\n",
       "      <td>3418.0</td>\n",
       "      <td>0.0</td>\n",
       "      <td>164.0</td>\n",
       "      <td>756.51</td>\n",
       "      <td>5.0</td>\n",
       "      <td>5.0</td>\n",
       "      <td>3.0</td>\n",
       "      <td>MVC</td>\n",
       "    </tr>\n",
       "    <tr>\n",
       "      <th>474934</th>\n",
       "      <td>538171</td>\n",
       "      <td>22750</td>\n",
       "      <td>FELTCRAFT PRINCESS LOLA DOLL</td>\n",
       "      <td>1</td>\n",
       "      <td>2010-12-09 20:01:00</td>\n",
       "      <td>3.75</td>\n",
       "      <td>17530.0</td>\n",
       "      <td>United Kingdom</td>\n",
       "      <td>20:01:00</td>\n",
       "      <td>2010</td>\n",
       "      <td>...</td>\n",
       "      <td>3.75</td>\n",
       "      <td>3418.0</td>\n",
       "      <td>3418.0</td>\n",
       "      <td>0.0</td>\n",
       "      <td>164.0</td>\n",
       "      <td>756.51</td>\n",
       "      <td>5.0</td>\n",
       "      <td>5.0</td>\n",
       "      <td>3.0</td>\n",
       "      <td>MVC</td>\n",
       "    </tr>\n",
       "    <tr>\n",
       "      <th>474935</th>\n",
       "      <td>538171</td>\n",
       "      <td>22751</td>\n",
       "      <td>FELTCRAFT PRINCESS OLIVIA DOLL</td>\n",
       "      <td>1</td>\n",
       "      <td>2010-12-09 20:01:00</td>\n",
       "      <td>3.75</td>\n",
       "      <td>17530.0</td>\n",
       "      <td>United Kingdom</td>\n",
       "      <td>20:01:00</td>\n",
       "      <td>2010</td>\n",
       "      <td>...</td>\n",
       "      <td>3.75</td>\n",
       "      <td>3418.0</td>\n",
       "      <td>3418.0</td>\n",
       "      <td>0.0</td>\n",
       "      <td>164.0</td>\n",
       "      <td>756.51</td>\n",
       "      <td>5.0</td>\n",
       "      <td>5.0</td>\n",
       "      <td>3.0</td>\n",
       "      <td>MVC</td>\n",
       "    </tr>\n",
       "    <tr>\n",
       "      <th>474936</th>\n",
       "      <td>538171</td>\n",
       "      <td>20970</td>\n",
       "      <td>PINK FLORAL FELTCRAFT SHOULDER BAG</td>\n",
       "      <td>2</td>\n",
       "      <td>2010-12-09 20:01:00</td>\n",
       "      <td>3.75</td>\n",
       "      <td>17530.0</td>\n",
       "      <td>United Kingdom</td>\n",
       "      <td>20:01:00</td>\n",
       "      <td>2010</td>\n",
       "      <td>...</td>\n",
       "      <td>7.50</td>\n",
       "      <td>3418.0</td>\n",
       "      <td>3418.0</td>\n",
       "      <td>0.0</td>\n",
       "      <td>164.0</td>\n",
       "      <td>756.51</td>\n",
       "      <td>5.0</td>\n",
       "      <td>5.0</td>\n",
       "      <td>3.0</td>\n",
       "      <td>MVC</td>\n",
       "    </tr>\n",
       "    <tr>\n",
       "      <th>474937</th>\n",
       "      <td>538171</td>\n",
       "      <td>21931</td>\n",
       "      <td>JUMBO STORAGE BAG SUKI</td>\n",
       "      <td>2</td>\n",
       "      <td>2010-12-09 20:01:00</td>\n",
       "      <td>1.95</td>\n",
       "      <td>17530.0</td>\n",
       "      <td>United Kingdom</td>\n",
       "      <td>20:01:00</td>\n",
       "      <td>2010</td>\n",
       "      <td>...</td>\n",
       "      <td>3.90</td>\n",
       "      <td>3418.0</td>\n",
       "      <td>3418.0</td>\n",
       "      <td>0.0</td>\n",
       "      <td>164.0</td>\n",
       "      <td>756.51</td>\n",
       "      <td>5.0</td>\n",
       "      <td>5.0</td>\n",
       "      <td>3.0</td>\n",
       "      <td>MVC</td>\n",
       "    </tr>\n",
       "  </tbody>\n",
       "</table>\n",
       "<p>474938 rows × 21 columns</p>\n",
       "</div>"
      ],
      "text/plain": [
       "       Invoice StockCode                          Description  Quantity  \\\n",
       "0       489434     85048  15CM CHRISTMAS GLASS BALL 20 LIGHTS        12   \n",
       "1       489434    79323P                   PINK CHERRY LIGHTS        12   \n",
       "2       489434    79323W                  WHITE CHERRY LIGHTS        12   \n",
       "3       489434     22041         RECORD FRAME 7\" SINGLE SIZE         48   \n",
       "4       489434     21232       STRAWBERRY CERAMIC TRINKET BOX        24   \n",
       "...        ...       ...                                  ...       ...   \n",
       "474933  538171     22271                 FELTCRAFT DOLL ROSIE         2   \n",
       "474934  538171     22750         FELTCRAFT PRINCESS LOLA DOLL         1   \n",
       "474935  538171     22751       FELTCRAFT PRINCESS OLIVIA DOLL         1   \n",
       "474936  538171     20970   PINK FLORAL FELTCRAFT SHOULDER BAG         2   \n",
       "474937  538171     21931               JUMBO STORAGE BAG SUKI         2   \n",
       "\n",
       "               InvoiceDate  Price  Customer ID         Country InvoiceTime  \\\n",
       "0      2009-12-01 07:45:00   6.95      13085.0  United Kingdom    07:45:00   \n",
       "1      2009-12-01 07:45:00   6.75      13085.0  United Kingdom    07:45:00   \n",
       "2      2009-12-01 07:45:00   6.75      13085.0  United Kingdom    07:45:00   \n",
       "3      2009-12-01 07:45:00   2.10      13085.0  United Kingdom    07:45:00   \n",
       "4      2009-12-01 07:45:00   1.25      13085.0  United Kingdom    07:45:00   \n",
       "...                    ...    ...          ...             ...         ...   \n",
       "474933 2010-12-09 20:01:00   2.95      17530.0  United Kingdom    20:01:00   \n",
       "474934 2010-12-09 20:01:00   3.75      17530.0  United Kingdom    20:01:00   \n",
       "474935 2010-12-09 20:01:00   3.75      17530.0  United Kingdom    20:01:00   \n",
       "474936 2010-12-09 20:01:00   3.75      17530.0  United Kingdom    20:01:00   \n",
       "474937 2010-12-09 20:01:00   1.95      17530.0  United Kingdom    20:01:00   \n",
       "\n",
       "        InvoiceYear  ...  TotalPrice  level_0   index  recency  frequency  \\\n",
       "0              2009  ...       83.40    201.0   201.0    314.0       62.0   \n",
       "1              2009  ...       81.00    201.0   201.0    314.0       62.0   \n",
       "2              2009  ...       81.00    201.0   201.0    314.0       62.0   \n",
       "3              2009  ...      100.80    201.0   201.0    314.0       62.0   \n",
       "4              2009  ...       30.00    201.0   201.0    314.0       62.0   \n",
       "...             ...  ...         ...      ...     ...      ...        ...   \n",
       "474933         2010  ...        5.90   3418.0  3418.0      0.0      164.0   \n",
       "474934         2010  ...        3.75   3418.0  3418.0      0.0      164.0   \n",
       "474935         2010  ...        3.75   3418.0  3418.0      0.0      164.0   \n",
       "474936         2010  ...        7.50   3418.0  3418.0      0.0      164.0   \n",
       "474937         2010  ...        3.90   3418.0  3418.0      0.0      164.0   \n",
       "\n",
       "        monetary  r_quartile  f_quartile  m_quartile      segment  \n",
       "0        2017.20         1.0         4.0         4.0  previous VC  \n",
       "1        2017.20         1.0         4.0         4.0  previous VC  \n",
       "2        2017.20         1.0         4.0         4.0  previous VC  \n",
       "3        2017.20         1.0         4.0         4.0  previous VC  \n",
       "4        2017.20         1.0         4.0         4.0  previous VC  \n",
       "...          ...         ...         ...         ...          ...  \n",
       "474933    756.51         5.0         5.0         3.0          MVC  \n",
       "474934    756.51         5.0         5.0         3.0          MVC  \n",
       "474935    756.51         5.0         5.0         3.0          MVC  \n",
       "474936    756.51         5.0         5.0         3.0          MVC  \n",
       "474937    756.51         5.0         5.0         3.0          MVC  \n",
       "\n",
       "[474938 rows x 21 columns]"
      ]
     },
     "execution_count": 148,
     "metadata": {},
     "output_type": "execute_result"
    }
   ],
   "source": [
    "new_df"
   ]
  },
  {
   "cell_type": "code",
   "execution_count": 149,
   "metadata": {},
   "outputs": [],
   "source": [
    "#output for visualization\n",
    "\n",
    "new_df.to_csv('./crm_segment.csv')"
   ]
  },
  {
   "cell_type": "code",
   "execution_count": null,
   "metadata": {},
   "outputs": [],
   "source": []
  }
 ],
 "metadata": {
  "kernelspec": {
   "display_name": "tensorflow",
   "language": "python",
   "name": "tensorflow"
  },
  "language_info": {
   "codemirror_mode": {
    "name": "ipython",
    "version": 3
   },
   "file_extension": ".py",
   "mimetype": "text/x-python",
   "name": "python",
   "nbconvert_exporter": "python",
   "pygments_lexer": "ipython3",
   "version": "3.7.0"
  }
 },
 "nbformat": 4,
 "nbformat_minor": 4
}
